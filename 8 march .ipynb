{
 "cells": [
  {
   "cell_type": "markdown",
   "id": "ee175e97-c9f2-486d-b212-285fa44bc042",
   "metadata": {},
   "source": [
    "Q1. What is the Probabili ty density function?\n",
    "\n",
    "Probability density function (PDF) is a function that describes the probability of a continuous random variable taking on a particular value. The PDF is often graphed as a curve, with the height of the curve at a particular value representing the probability of the random variable taking on that value.\n"
   ]
  },
  {
   "cell_type": "markdown",
   "id": "34ec1363-5732-4061-8da2-8d8b3ee3aebd",
   "metadata": {},
   "source": [
    "Q2. What are the types of Probability distribution?\n",
    "\n",
    "Discrete probability distributions are those that can only take on a finite number of values. Examples of discrete probability distributions include the binomial distribution, the Poisson distribution, and the geometric distribution.\n",
    "\n",
    "Continuous probability distributions are those that can take on any value within a certain range. Examples of continuous probability distributions include the normal distribution, the uniform distribution, and the exponential distribution.\n",
    "\n",
    "Binomial distribution is a discrete probability distribution that describes the probability of a certain number of successes in a fixed number of trials.\n",
    "\n",
    "Poisson distribution is a discrete probability distribution that describes the probability of a certain number of events occurring in a fixed interval of time or space.\n",
    "\n",
    "Normal distribution is a continuous probability distribution that is bell-shaped and symmetrical.\n",
    "\n",
    "Uniform distribution is a continuous probability distribution that assigns equal probability to all values within a certain range.\n",
    "\n",
    "Exponential distribution is a continuous probability distribution that describes the time between events that occur at a constant rate."
   ]
  },
  {
   "cell_type": "markdown",
   "id": "745b47a8-1c59-4b39-ba73-dab379613783",
   "metadata": {},
   "source": [
    "Q3. Write a Python function to calculate the probability density function of a normal distribution with given mean and standard deviation at a given point."
   ]
  },
  {
   "cell_type": "code",
   "execution_count": 9,
   "id": "7a7e6613-66ea-422d-b131-6e9f7df576a4",
   "metadata": {},
   "outputs": [
    {
     "name": "stdout",
     "output_type": "stream",
     "text": [
      "The PDF at x = 1.5 is: 0.2896915527614828\n"
     ]
    }
   ],
   "source": [
    "import math\n",
    "\n",
    "mean = 2.3\n",
    "std = 1.0\n",
    "x = 1.5\n",
    "\n",
    "def pdf(x, mean, std):\n",
    "    coefficient = 1 / (std * math.sqrt(2 * math.pi))\n",
    "    exponent = -0.5 * ((x - mean) / std) ** 2\n",
    "    pdf_value = coefficient * math.exp(exponent)\n",
    "    return pdf_value\n",
    "\n",
    "result = pdf(x, mean, std)\n",
    "print(f\"The PDF at x = {x} is: {result}\")\n"
   ]
  },
  {
   "cell_type": "markdown",
   "id": "3b0c14b0-aafe-4a5a-8247-98584aa141f8",
   "metadata": {},
   "source": [
    "Q4. What are the properties of Binomial distribution? Give two examples of events where binomial\n",
    "distribution can be applied."
   ]
  },
  {
   "cell_type": "markdown",
   "id": "2b8882e1-f953-49be-846a-b88937ed7278",
   "metadata": {},
   "source": [
    "It has the following properties:\n",
    "The number of trials, n, is fixed.\n",
    "\n",
    "Each trial has only two possible outcomes, success or failure.\n",
    "\n",
    "The probability of success, p, is the same for each trial\n",
    "\n",
    "The trials are independent, meaning that the outcome of one trial \n",
    "does not affect the outcome of another trial\n",
    "\n",
    "Two examples of events where the binomial distribution can be applied are:\n",
    "\n",
    "The number of heads in 10 coin flips. \n",
    "\n",
    "The number of people who pass an exam out of 100 people who took the exam"
   ]
  },
  {
   "cell_type": "markdown",
   "id": "013bb779-ba10-4bf9-9661-cb3fab811775",
   "metadata": {},
   "source": [
    "Q5. Generate a random sample of size 1000 from a binomial distribution with probability of success 0.4\n",
    "and plot a histogram of the results using matplotlib."
   ]
  },
  {
   "cell_type": "code",
   "execution_count": 10,
   "id": "a46ecad6-ccac-4eff-8cda-a013cb121700",
   "metadata": {},
   "outputs": [
    {
     "data": {
      "image/png": "[encoded data removed]",
      "text/plain": [
       "<Figure size 640x480 with 1 Axes>"
      ]
     },
     "metadata": {},
     "output_type": "display_data"
    }
   ],
   "source": [
    "import numpy as np\n",
    "import matplotlib.pyplot as plt \n",
    "sample_size=1000\n",
    "p_sucess=0.4\n",
    "\n",
    "random=np.random.binomial(n=1,p=p_sucess,size=sample_size)\n",
    "plt.hist(random)\n",
    "plt.xlabel('Outcome')\n",
    "plt.ylabel('Frequency')\n",
    "plt.show()"
   ]
  },
  {
   "cell_type": "markdown",
   "id": "a7c8fc8e-b4d4-4473-bc26-6b8a342f1f5b",
   "metadata": {},
   "source": [
    "Q6. Write a Python function to calculate the cumulative distribution function of a Poisson distribution\n",
    "with given mean at a given point."
   ]
  },
  {
   "cell_type": "code",
   "execution_count": 11,
   "id": "938f1c5d-9689-48ea-81ac-ba1a2abee9bc",
   "metadata": {},
   "outputs": [
    {
     "name": "stdout",
     "output_type": "stream",
     "text": [
      "0.7575761331330659\n"
     ]
    }
   ],
   "source": [
    "import math\n",
    "def poission_cdf(x,mean):\n",
    "    cdf_val=0\n",
    "    for k in range(x+1):\n",
    "        cdf_val+= ((math.exp(-mean))*(mean**k))/math.factorial(k)\n",
    "    return cdf_val\n",
    "mean=2.5\n",
    "x=3\n",
    "result=poission_cdf(x,mean)\n",
    "print(result)\n",
    "        \n"
   ]
  },
  {
   "cell_type": "markdown",
   "id": "47406bad-50d5-4f91-9c43-69317ef8a855",
   "metadata": {},
   "source": [
    "Q7. How Binomial distribution different from Poisson distribution?"
   ]
  },
  {
   "cell_type": "markdown",
   "id": "bd842266-b540-43e2-82b6-cdcf832d3cf3",
   "metadata": {},
   "source": [
    "The binomial distribution has a fixed number of trials, while the Poisson distribution does not\n",
    "\n",
    "The binomial distribution has a probability of success that is the same for each trial, while the Poisson distribution has a mean that is the same for each trial"
   ]
  },
  {
   "cell_type": "markdown",
   "id": "fb2e608d-7309-4b4d-84e5-e2ed4b206300",
   "metadata": {},
   "source": [
    "Q8. Generate a random sample of size 1000 from a Poisson distribution with mean 5 and calculate the\n",
    "sample mean and variance."
   ]
  },
  {
   "cell_type": "code",
   "execution_count": 12,
   "id": "c5af72d1-ef66-4821-9b96-30efa3dcb7cc",
   "metadata": {},
   "outputs": [
    {
     "name": "stdout",
     "output_type": "stream",
     "text": [
      "Mean is  5.155\n",
      "variance is  5.155\n"
     ]
    }
   ],
   "source": [
    "import numpy as np\n",
    "sample_size=1000\n",
    "mean=5\n",
    "\n",
    "random=np.random.poisson(mean,size=sample_size)\n",
    "poisson_mean=np.mean(random)\n",
    "poisson_variance=np.mean(random)\n",
    "\n",
    "print(\"Mean is \",poisson_mean)\n",
    "print(\"variance is \",poisson_variance)"
   ]
  },
  {
   "cell_type": "markdown",
   "id": "ce4be32e-6266-43e3-9f57-5ceaba288dbb",
   "metadata": {},
   "source": [
    "Q9. How mean and variance are related in Binomial distribution and Poisson distribution?"
   ]
  },
  {
   "cell_type": "markdown",
   "id": "b368b29f-7b3a-4f12-b955-42784c072901",
   "metadata": {},
   "source": [
    "In Binomial mean is np where as in Poisson it is lambda \n",
    "and Variace in Binomial is np(1-p) and in poission it is lambda \n",
    "\n",
    "\n",
    "The mean and variance of a binomial distribution are related in a simple way: the mean is equal to the variance multiplied by the probability of success, p. This is because the mean of a binomial distribution is the expected value, or average, of the number of successes, and the variance is a measure of how spread out the distribution is.\n",
    "\n",
    "The mean and variance of a Poisson distribution are also related, but in a slightly different way. The mean of a Poisson distribution is equal to the variance. This is because the Poisson distribution is a limiting case of the binomial distribution when the number of trials, n, is very large and the probability of success, p, is very small.\n"
   ]
  },
  {
   "cell_type": "markdown",
   "id": "a26f7897-4be3-4548-a590-81477d34ef5b",
   "metadata": {},
   "source": [
    "Q10. In normal distribution with respect to mean position, where does the least frequent data appear?"
   ]
  },
  {
   "cell_type": "markdown",
   "id": "53fe81a7-682d-4175-8c1b-34c5ef0fb865",
   "metadata": {},
   "source": [
    "In a normal distribution, the least frequent data appears in the tails of the distribution, which are the areas furthest away from the mean. This is because the normal distribution is symmetrical, so the most frequent data appears in the center of the distribution, and the least frequent data appears in the tails."
   ]
  }
 ],
 "metadata": {
  "kernelspec": {
   "display_name": "Python 3 (ipykernel)",
   "language": "python",
   "name": "python3"
  },
  "language_info": {
   "codemirror_mode": {
    "name": "ipython",
    "version": 3
   },
   "file_extension": ".py",
   "mimetype": "text/x-python",
   "name": "python",
   "nbconvert_exporter": "python",
   "pygments_lexer": "ipython3",
   "version": "3.10.8"
  }
 },
 "nbformat": 4,
 "nbformat_minor": 5
}
