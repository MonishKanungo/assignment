{
 "cells": [
  {
   "cell_type": "code",
   "execution_count": 2,
   "id": "932d71f0-07d9-4d66-992f-91a8d060be85",
   "metadata": {},
   "outputs": [
    {
     "data": {
      "text/plain": [
       "'exception is an error that occurs during the execution of a program, which interrupts the normal flow of the program. Exceptions are raised when a statement or expression cannot be executed correctly.\\nThe differnce b/w exception and syntax is that syntax errors occur before the program is executed, while exceptions occur during program execution.'"
      ]
     },
     "execution_count": 2,
     "metadata": {},
     "output_type": "execute_result"
    }
   ],
   "source": [
    "#Q1\n",
    "\"\"\"exception is an error that occurs during the execution of a program, which interrupts the normal flow of the program. Exceptions are raised when a statement or expression cannot be executed correctly.\n",
    "The differnce b/w exception and syntax is that syntax errors occur before the program is executed, while exceptions occur during program execution.\"\"\""
   ]
  },
  {
   "cell_type": "code",
   "execution_count": 3,
   "id": "40a4201c-bc8f-4aed-8c61-abc128e75166",
   "metadata": {},
   "outputs": [
    {
     "name": "stdout",
     "output_type": "stream",
     "text": [
      "division by zero\n"
     ]
    }
   ],
   "source": [
    "#Q2 \n",
    "\"\"\"When exception is not handled so our program behaves abnormally \"\"\"\n",
    "try:\n",
    "    10/0\n",
    "except Exception as e: #here Exception is handled \n",
    "    print(e)"
   ]
  },
  {
   "cell_type": "code",
   "execution_count": 5,
   "id": "eb296577-84ae-4fed-9194-b6650da6d023",
   "metadata": {},
   "outputs": [
    {
     "name": "stdout",
     "output_type": "stream",
     "text": [
      "Continue\n"
     ]
    },
    {
     "ename": "ZeroDivisionError",
     "evalue": "division by zero",
     "output_type": "error",
     "traceback": [
      "\u001b[0;31m---------------------------------------------------------------------------\u001b[0m",
      "\u001b[0;31mZeroDivisionError\u001b[0m                         Traceback (most recent call last)",
      "Cell \u001b[0;32mIn[5], line 3\u001b[0m\n\u001b[1;32m      1\u001b[0m \u001b[38;5;66;03m#if Exception is not handled \u001b[39;00m\n\u001b[1;32m      2\u001b[0m \u001b[38;5;28;01mtry\u001b[39;00m:\n\u001b[0;32m----> 3\u001b[0m     \u001b[38;5;241;43m10\u001b[39;49m\u001b[38;5;241;43m/\u001b[39;49m\u001b[38;5;241;43m0\u001b[39;49m\n\u001b[1;32m      4\u001b[0m \u001b[38;5;28;01mfinally\u001b[39;00m:\n\u001b[1;32m      5\u001b[0m     \u001b[38;5;28mprint\u001b[39m(\u001b[38;5;124m\"\u001b[39m\u001b[38;5;124mContinue\u001b[39m\u001b[38;5;124m\"\u001b[39m) \u001b[38;5;66;03m#if except block is not present than code redirects to finally block\u001b[39;00m\n",
      "\u001b[0;31mZeroDivisionError\u001b[0m: division by zero"
     ]
    }
   ],
   "source": [
    "#if Exception is not handled \n",
    "try:\n",
    "    10/0\n",
    "finally:\n",
    "    print(\"Continue\") #if except block is not present than code redirects to finally block"
   ]
  },
  {
   "cell_type": "code",
   "execution_count": 6,
   "id": "97e28572-9b4a-44da-b310-fb7650d3c788",
   "metadata": {},
   "outputs": [
    {
     "name": "stdout",
     "output_type": "stream",
     "text": [
      "No module named 'Monish'\n"
     ]
    }
   ],
   "source": [
    "#Q3\n",
    "\"\"\"IN Python Try and catch block is used to catch and handle.try block contains exception and except is runed when exception  is encountered\"\"\"\n",
    "try:\n",
    "    import Monish\n",
    "except ImportError as e:\n",
    "    print(e)\n",
    "    "
   ]
  },
  {
   "cell_type": "code",
   "execution_count": 10,
   "id": "908c14ed-d47b-4ef1-892d-33190c55e1cc",
   "metadata": {},
   "outputs": [],
   "source": [
    "#Q4\n",
    "#A ,B\n",
    "try:\n",
    "    f=open(\"try.txt\",'w')\n",
    "    try:\n",
    "           f.write(\"Suceesfully writted \")\n",
    "    except:\n",
    "           print(\"Something went Wrong!!\")\n",
    "    finally:\n",
    "           f.close()\n",
    "except:\n",
    "           print(\"Procces cannot be Proccesed \")"
   ]
  },
  {
   "cell_type": "code",
   "execution_count": 12,
   "id": "e49e49f0-3673-4128-9da9-f204897107f1",
   "metadata": {},
   "outputs": [
    {
     "name": "stdin",
     "output_type": "stream",
     "text": [
      "Enter Your Age .Age should be above 18 and Below 30 90\n"
     ]
    },
    {
     "ename": "ValueError",
     "evalue": "Age not Qualified",
     "output_type": "error",
     "traceback": [
      "\u001b[0;31m---------------------------------------------------------------------------\u001b[0m",
      "\u001b[0;31mValueError\u001b[0m                                Traceback (most recent call last)",
      "Cell \u001b[0;32mIn[12], line 4\u001b[0m\n\u001b[1;32m      2\u001b[0m Num\u001b[38;5;241m=\u001b[39m\u001b[38;5;28mint\u001b[39m(\u001b[38;5;28minput\u001b[39m(\u001b[38;5;124m\"\u001b[39m\u001b[38;5;124mEnter Your Age .Age should be above 18 and Below 30\u001b[39m\u001b[38;5;124m\"\u001b[39m))\n\u001b[1;32m      3\u001b[0m \u001b[38;5;28;01mif\u001b[39;00m (Num\u001b[38;5;241m<\u001b[39m\u001b[38;5;241m18\u001b[39m \u001b[38;5;129;01mor\u001b[39;00m Num\u001b[38;5;241m>\u001b[39m\u001b[38;5;241m30\u001b[39m):\n\u001b[0;32m----> 4\u001b[0m     \u001b[38;5;28;01mraise\u001b[39;00m \u001b[38;5;167;01mValueError\u001b[39;00m(\u001b[38;5;124m\"\u001b[39m\u001b[38;5;124mAge not Qualified\u001b[39m\u001b[38;5;124m\"\u001b[39m)\n",
      "\u001b[0;31mValueError\u001b[0m: Age not Qualified"
     ]
    }
   ],
   "source": [
    "#C\n",
    "Num=int(input(\"Enter Your Age .Age should be above 18 and Below 30\"))\n",
    "if (Num<18 or Num>30):\n",
    "    raise ValueError(\"Age not Qualified\")\n",
    "    \n",
    "    \n"
   ]
  },
  {
   "cell_type": "code",
   "execution_count": 13,
   "id": "378dfafc-8f34-424a-8f4a-073b34731ae7",
   "metadata": {},
   "outputs": [
    {
     "data": {
      "text/plain": [
       "'Custom Exceptions are the exception which is user defined\\nWE custom Exception becuause When we are developing a large Python program, it is a good practice to place all the user-defined exceptions that our program raises in a separate file'"
      ]
     },
     "execution_count": 13,
     "metadata": {},
     "output_type": "execute_result"
    }
   ],
   "source": [
    "#Q5\n",
    "\"\"\"Custom Exceptions are the exception which is user defined\n",
    "WE custom Exception becuause When we are developing a large Python program, it is a good practice to place all the user-defined exceptions that our program raises in a separate file\"\"\""
   ]
  },
  {
   "cell_type": "code",
   "execution_count": 14,
   "id": "6a020166-ac33-4fd7-b066-18f3968055ba",
   "metadata": {},
   "outputs": [],
   "source": [
    "def calculate_square_root(x):\n",
    "    if x < 0:\n",
    "        raise NegativeNumberError(\"Cannot calculate square root of a negative number\")\n",
    "    return result"
   ]
  },
  {
   "cell_type": "code",
   "execution_count": 15,
   "id": "e07b7259-1111-4278-843a-02d796b1d302",
   "metadata": {},
   "outputs": [
    {
     "ename": "NameError",
     "evalue": "name 'NegativeNumberError' is not defined",
     "output_type": "error",
     "traceback": [
      "\u001b[0;31m---------------------------------------------------------------------------\u001b[0m",
      "\u001b[0;31mNameError\u001b[0m                                 Traceback (most recent call last)",
      "Cell \u001b[0;32mIn[15], line 1\u001b[0m\n\u001b[0;32m----> 1\u001b[0m \u001b[43mcalculate_square_root\u001b[49m\u001b[43m(\u001b[49m\u001b[38;5;241;43m-\u001b[39;49m\u001b[38;5;241;43m9\u001b[39;49m\u001b[43m)\u001b[49m\n",
      "Cell \u001b[0;32mIn[14], line 3\u001b[0m, in \u001b[0;36mcalculate_square_root\u001b[0;34m(x)\u001b[0m\n\u001b[1;32m      1\u001b[0m \u001b[38;5;28;01mdef\u001b[39;00m \u001b[38;5;21mcalculate_square_root\u001b[39m(x):\n\u001b[1;32m      2\u001b[0m     \u001b[38;5;28;01mif\u001b[39;00m x \u001b[38;5;241m<\u001b[39m \u001b[38;5;241m0\u001b[39m:\n\u001b[0;32m----> 3\u001b[0m         \u001b[38;5;28;01mraise\u001b[39;00m \u001b[43mNegativeNumberError\u001b[49m(\u001b[38;5;124m\"\u001b[39m\u001b[38;5;124mCannot calculate square root of a negative number\u001b[39m\u001b[38;5;124m\"\u001b[39m)\n\u001b[1;32m      4\u001b[0m     \u001b[38;5;28;01mreturn\u001b[39;00m result\n",
      "\u001b[0;31mNameError\u001b[0m: name 'NegativeNumberError' is not defined"
     ]
    }
   ],
   "source": [
    "calculate_square_root(-9)"
   ]
  },
  {
   "cell_type": "code",
   "execution_count": 20,
   "id": "b86e9460-fa62-4730-8463-a80d682a7690",
   "metadata": {},
   "outputs": [
    {
     "name": "stdin",
     "output_type": "stream",
     "text": [
      "Enter age 16\n"
     ]
    },
    {
     "name": "stdout",
     "output_type": "stream",
     "text": [
      "Exception occurred: Invalid Age\n"
     ]
    }
   ],
   "source": [
    "#Q6\n",
    "class Invalid_Age_Eligiblity(Exception):\n",
    "    \"Raised when age is not eligible\"\n",
    "try:\n",
    "    age=int(input(\"Enter age\"))\n",
    "    if age<18:\n",
    "        raise Invalid_Age_Eligiblity\n",
    "    else:\n",
    "        print(\"You are  eligible\")\n",
    "except Invalid_Age_Eligiblity:\n",
    "    print(\"Exception occurred: Invalid Age\")\n",
    "        \n",
    "    "
   ]
  },
  {
   "cell_type": "code",
   "execution_count": null,
   "id": "c8fe7e56-4857-4a91-af45-df4fadbf418f",
   "metadata": {},
   "outputs": [],
   "source": []
  }
 ],
 "metadata": {
  "kernelspec": {
   "display_name": "Python 3 (ipykernel)",
   "language": "python",
   "name": "python3"
  },
  "language_info": {
   "codemirror_mode": {
    "name": "ipython",
    "version": 3
   },
   "file_extension": ".py",
   "mimetype": "text/x-python",
   "name": "python",
   "nbconvert_exporter": "python",
   "pygments_lexer": "ipython3",
   "version": "3.10.8"
  }
 },
 "nbformat": 4,
 "nbformat_minor": 5
}
