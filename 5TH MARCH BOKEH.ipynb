{
 "cells": [
  {
   "cell_type": "markdown",
   "id": "d6090d95-2d31-493f-b632-9a4dd90f8d37",
   "metadata": {},
   "source": [
    "Q1. How can you create a Bokeh plot using Python code?"
   ]
  },
  {
   "cell_type": "markdown",
   "id": "120c5f61-bf5d-4358-89ec-6163d1b67725",
   "metadata": {},
   "source": [
    "Import the necessary modules from Bokeh (figure, show, etc.).\n",
    "Prepare or load your data.\n",
    "Create a figure using figure() to set up the plot.\n",
    "Add glyphs (such as circles, lines, or bars) to represent the data using methods like scatter(), line(), or vbar().\n",
    "Customize the plot's appearance (e.g., title, axes labels, colors) using properties and attributes.\n",
    "Show the plot using show() to display it in the desired output (notebook, web browser, or standalone HTML file)."
   ]
  },
  {
   "cell_type": "markdown",
   "id": "918be1a1-0aeb-4b0c-ba34-2410062d7139",
   "metadata": {},
   "source": [
    "Q2. What are glyphs in Bokeh, and how can you add them to a Bokeh plot? Explain with an example."
   ]
  },
  {
   "cell_type": "markdown",
   "id": "c07fc59e-0dcb-4afc-8958-c4c6bf58f52b",
   "metadata": {},
   "source": [
    "\n",
    "Glyphs in Bokeh are graphical shapes or markers that are used to represent your data. They can be used to create a variety of plots, including scatter plots, line plots, and bar charts.\n",
    "To add glyphs to a Bokeh plot, you need to create a GlyphRenderer object and add it to the Plot object"
   ]
  },
  {
   "cell_type": "code",
   "execution_count": 5,
   "id": "fc4dbcf0-8093-4e49-981e-3311df2f616c",
   "metadata": {},
   "outputs": [],
   "source": [
    "from bokeh.plotting import figure, show\n",
    "x_values = [1, 2, 3, 4, 5]\n",
    "y_values = [10, 15, 8, 12, 6]\n",
    "plot = figure(title=\"Scatter Plot Example\", x_axis_label=\"X-axis\", y_axis_label=\"Y-axis\")\n",
    "plot.scatter(x=x_values, y=y_values, size=10, color=\"blue\")\n",
    "show(plot)\n"
   ]
  },
  {
   "cell_type": "markdown",
   "id": "9743b265-783c-4763-8ae4-8412e73784a0",
   "metadata": {},
   "source": [
    "Q3. How can you customize the appearance of a Bokeh plot, including the axes, title, and legend?"
   ]
  },
  {
   "cell_type": "markdown",
   "id": "cd1cc64f-d057-4ac3-8d1a-f1d4bc93fb39",
   "metadata": {},
   "source": [
    "You can customize the appearance of a Bokeh plot by setting the properties of the Plot object and the GlyphRenderer objects.\n",
    "The following are some of the properties you can set to customize the appearance of a Bokeh plot:\n",
    "1) xaxis_label: The label for the x-axis.\n",
    "2) yaxis_label: The label for the y-axis.\n",
    "3) xaxis_range: The range of values for the x-axis.\n",
    "4) yaxis_range: The range of values for the y-axis.\n",
    "5) legend_location: The location of the legend.\n",
    "6) legend_title: The title of the legend."
   ]
  },
  {
   "cell_type": "markdown",
   "id": "75edc556-28b6-45b4-a5f1-4404b3e2a548",
   "metadata": {},
   "source": [
    "Q4. What is a Bokeh server, and how can you use it to create interactive plots that can be updated in\n",
    "real time?"
   ]
  },
  {
   "cell_type": "markdown",
   "id": "1beaf627-0792-4558-ba78-191053bcc6ed",
   "metadata": {},
   "source": [
    "A Bokeh server is a web server that serves Bokeh plots. It can be used to create interactive plots that can be updated in real time.\n",
    "To use a Bokeh server to create interactive plots, you need to:\n",
    "1) Create a Bokeh plot using the Bokeh plotting library.\n",
    "2) Start the Bokeh server.\n",
    "3) Open the Bokeh plot in a web browser.\n",
    "\n",
    "A Bokeh server is a web server that serves Bokeh plots. It can be used to create interactive plots that can be updated in real time.\n",
    "\n",
    "To use a Bokeh server to create interactive plots, you need to:\n",
    "\n",
    "Create a Bokeh plot using the Bokeh plotting library.\n",
    "Start the Bokeh server.\n",
    "Open the Bokeh plot in a web browser.\n",
    "When you start the Bokeh server, it will create a web application that serves your Bokeh plot. You can then open the web application in a web browser to view your plot.\n",
    "\n",
    "The Bokeh server allows you to interact with your plot in real time. For example, you can zoom in and out of the plot, pan the plot, and change the data that is being plotted."
   ]
  },
  {
   "cell_type": "markdown",
   "id": "2814941b-669e-42d2-9201-173c910d4326",
   "metadata": {},
   "source": [
    "Q5. How can you embed a Bokeh plot into a web page or dashboard using Flask or Django?"
   ]
  },
  {
   "cell_type": "code",
   "execution_count": 9,
   "id": "df7b8b55-324f-42b1-a9d0-4ff2ae340dff",
   "metadata": {},
   "outputs": [
    {
     "ename": "SyntaxError",
     "evalue": "invalid syntax (2564072108.py, line 1)",
     "output_type": "error",
     "traceback": [
      "\u001b[0;36m  Cell \u001b[0;32mIn[9], line 1\u001b[0;36m\u001b[0m\n\u001b[0;31m    To embed a Bokeh plot into a web page or dashboard using Flask or Django, you need to:\u001b[0m\n\u001b[0m       ^\u001b[0m\n\u001b[0;31mSyntaxError\u001b[0m\u001b[0;31m:\u001b[0m invalid syntax\n"
     ]
    }
   ],
   "source": [
    "To embed a Bokeh plot into a web page or dashboard using Flask or Django, you need to:\n",
    "\n",
    "Create a Bokeh plot using the Bokeh plotting library.\n",
    "Create a Flask or Django application.\n",
    "Embedding the Bokeh plot in the Flask or Django application."
   ]
  },
  {
   "cell_type": "code",
   "execution_count": null,
   "id": "0981b311-6294-43db-9699-dffee07bb7a2",
   "metadata": {},
   "outputs": [],
   "source": []
  }
 ],
 "metadata": {
  "kernelspec": {
   "display_name": "Python 3 (ipykernel)",
   "language": "python",
   "name": "python3"
  },
  "language_info": {
   "codemirror_mode": {
    "name": "ipython",
    "version": 3
   },
   "file_extension": ".py",
   "mimetype": "text/x-python",
   "name": "python",
   "nbconvert_exporter": "python",
   "pygments_lexer": "ipython3",
   "version": "3.10.8"
  }
 },
 "nbformat": 4,
 "nbformat_minor": 5
}
