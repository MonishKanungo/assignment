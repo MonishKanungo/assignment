{
 "cells": [
  {
   "cell_type": "code",
   "execution_count": 23,
   "id": "c3e1dcf2-166b-4996-8b48-2a05ba4de76b",
   "metadata": {},
   "outputs": [
    {
     "name": "stdin",
     "output_type": "stream",
     "text": [
      "Enter a password PPnn45%$#9\n"
     ]
    },
    {
     "name": "stdout",
     "output_type": "stream",
     "text": [
      "Valid password\n"
     ]
    }
   ],
   "source": [
    "pswrd=input(\"Enter a password\")\n",
    "def password(pswrd):\n",
    "    upper=0\n",
    "    lower=0\n",
    "    num=0\n",
    "    spec_digit=0\n",
    "    for i in pswrd:\n",
    "        if i.isupper()==True:\n",
    "            upper+=1\n",
    "        elif i.islower()==True:\n",
    "            lower+=1\n",
    "        elif  i.isdigit() == True:\n",
    "            num+=1\n",
    "        else :\n",
    "            spec_digit+=1\n",
    "    if upper>=2 and lower>=2 and num>=1 and spec_digit>=3 and len(pswrd)>=10:\n",
    "        print(\"Valid password\")\n",
    "    else:\n",
    "        print(\"Invalid password\")\n",
    "    \n",
    "password(pswrd)"
   ]
  },
  {
   "cell_type": "code",
   "execution_count": 39,
   "id": "8c4816b6-4514-46a8-870b-cfc612d908f9",
   "metadata": {},
   "outputs": [
    {
     "name": "stdin",
     "output_type": "stream",
     "text": [
      "Enter a string data\n"
     ]
    },
    {
     "name": "stdout",
     "output_type": "stream",
     "text": [
      "['d', 'a', 't', 'a']\n",
      "['d']\n"
     ]
    }
   ],
   "source": [
    "s=input(\"Enter a string\")\n",
    "lst=list(s)\n",
    "print(lst)\n",
    "result=list(filter(lambda x:x[0]==\"D\" or x[0]==\"d\",lst))\n",
    "print(result)\n",
    "\n",
    "     "
   ]
  },
  {
   "cell_type": "code",
   "execution_count": 42,
   "id": "f4db6dea-aa8c-4bbe-a41f-5eceae3a6bd6",
   "metadata": {},
   "outputs": [
    {
     "name": "stdin",
     "output_type": "stream",
     "text": [
      "Enter a string 514\n"
     ]
    },
    {
     "name": "stdout",
     "output_type": "stream",
     "text": [
      "['5', '1', '4']\n",
      "['5', '1', '4']\n"
     ]
    }
   ],
   "source": [
    "s=input(\"Enter a string\")\n",
    "lst=list(s)\n",
    "print(lst)\n",
    "result=list(filter(lambda x:x.isnumeric(),lst))\n",
    "print(result)\n"
   ]
  },
  {
   "cell_type": "code",
   "execution_count": 45,
   "id": "dc2cf5e5-09d8-4b9d-b038-3e9845784f4b",
   "metadata": {},
   "outputs": [
    {
     "name": "stdout",
     "output_type": "stream",
     "text": [
      "[('orange', 80), ('mango', 99), ('grapes', 1000)]\n"
     ]
    }
   ],
   "source": [
    "lst=[(\"mango\",99),(\"orange\",80), (\"grapes\", 1000)]\n",
    "sort=sorted(lst,key=lambda x: x[1])\n",
    "print(sort)"
   ]
  },
  {
   "cell_type": "code",
   "execution_count": 50,
   "id": "e58d0047-3c0a-45fa-bab8-2c7dd8475be4",
   "metadata": {},
   "outputs": [
    {
     "name": "stdout",
     "output_type": "stream",
     "text": [
      "[1, 4, 9, 16, 25, 36, 49, 64, 81, 100]\n"
     ]
    }
   ],
   "source": [
    "result = [x**2 for x in range(1, 11)]\n",
    "print(result)"
   ]
  },
  {
   "cell_type": "code",
   "execution_count": 51,
   "id": "9247b4e7-8cad-4a12-b6ff-c18344553f16",
   "metadata": {},
   "outputs": [
    {
     "name": "stdout",
     "output_type": "stream",
     "text": [
      "[1, 8, 27, 64, 125, 216, 343, 512, 729, 1000]\n"
     ]
    }
   ],
   "source": [
    "result = [x**3 for x in range(1, 11)]\n",
    "print(result)"
   ]
  },
  {
   "cell_type": "code",
   "execution_count": 54,
   "id": "a9baa58e-fc7c-4d46-a0f9-c25b4136903e",
   "metadata": {},
   "outputs": [
    {
     "name": "stdout",
     "output_type": "stream",
     "text": [
      "True\n"
     ]
    }
   ],
   "source": [
    "even=lambda x:x%2==0\n",
    "result=even(52)\n",
    "print(result)"
   ]
  },
  {
   "cell_type": "code",
   "execution_count": 53,
   "id": "4faf8b03-5ad2-4552-9508-d32887a02feb",
   "metadata": {},
   "outputs": [
    {
     "name": "stdout",
     "output_type": "stream",
     "text": [
      "[1, 3, 5, 7, 9]\n"
     ]
    }
   ],
   "source": [
    "l=[1,2,3,4,5,6,7,8,9,10]\n",
    "result=list(filter(lambda x: x%2!=0 ,l))\n",
    "print(result)"
   ]
  },
  {
   "cell_type": "code",
   "execution_count": null,
   "id": "a9959b8b-8bcb-4861-aeb1-5a7e178d6c22",
   "metadata": {},
   "outputs": [],
   "source": [
    "l=[1,2,3,4,5,6,-1,-2,-3,-4,-5,0]\n",
    "result=list(filter(lambda x: x>=0 ,l))\n",
    "result1=list(filter(lambda x: x<0 ,l))\n",
    "print(\"positive number is\",result)\n",
    "print(\"posit number is\",result1)\n"
   ]
  }
 ],
 "metadata": {
  "kernelspec": {
   "display_name": "Python 3 (ipykernel)",
   "language": "python",
   "name": "python3"
  },
  "language_info": {
   "codemirror_mode": {
    "name": "ipython",
    "version": 3
   },
   "file_extension": ".py",
   "mimetype": "text/x-python",
   "name": "python",
   "nbconvert_exporter": "python",
   "pygments_lexer": "ipython3",
   "version": "3.10.8"
  }
 },
 "nbformat": 4,
 "nbformat_minor": 5
}
