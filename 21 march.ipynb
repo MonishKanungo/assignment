{
 "cells": [
  {
   "cell_type": "markdown",
   "id": "5303b5dc-f2d7-484f-89c2-5b0f3dc4d300",
   "metadata": {},
   "source": [
    "Q1. What is the difference between Ordinal Encoding and Label Encoding? Provide an example of when you\n",
    "might choose one over the other."
   ]
  },
  {
   "cell_type": "markdown",
   "id": "79ccbe05-68e5-462d-ad76-634f1a3a3075",
   "metadata": {},
   "source": [
    "Ordinal Encoding:\n",
    "\n",
    "Ordinal Encoding is used specifically for categorical variables where the categories have an inherent order or ranking.\n",
    "It assigns numerical values to categories based on their order or level.\n",
    "For example, education levels such as \"High School,\" \"Bachelor's,\" and \"Master's\" might be encoded as 1, 2, and 3, respectively.\n",
    "\n",
    "Label Encoding:\n",
    "\n",
    "Label Encoding is a more general method used for converting categorical variables into numerical format.\n",
    "It assigns unique integer labels to each category without necessarily considering an inherent order.\n",
    "For example, colors like \"Red,\" \"Green,\" and \"Blue\" might be encoded as 1, 2, and 3."
   ]
  },
  {
   "cell_type": "markdown",
   "id": "75354368-3cfb-4ed9-b386-b72b0d31299c",
   "metadata": {},
   "source": [
    "Q2. Explain how Target Guided Ordinal Encoding works and provide an example of when you might use it in\n",
    "a machine learning project."
   ]
  },
  {
   "cell_type": "markdown",
   "id": "e4d9135d-1838-4ef0-9f0a-3a216a779ff7",
   "metadata": {},
   "source": [
    "\n",
    "Target Guided Ordinal Encoding is a technique that assigns ordinal labels to categories based on their relationship with the target variable in a machine learning project. Instead of relying on the inherent order of the categories, this method uses the information from the target variable to create an ordinal encoding that aligns with the target's behavior.\n",
    "\n",
    "Consider a dataset with a \"City\" feature and a binary target variable indicating whether a customer made a purchase (1) or not (0). Applying Target Guided Ordinal Encoding to the \"City\" feature involves calculating the mean purchase rate for each city and ordering the cities accordingly. The cities with higher purchase rates might get higher ordinal labels."
   ]
  },
  {
   "cell_type": "markdown",
   "id": "f862c226-bc21-41fe-9b54-0bdac1a77642",
   "metadata": {},
   "source": [
    "Q3. Define covariance and explain why it is important in statistical analysis. How is covariance calculated?\n"
   ]
  },
  {
   "cell_type": "markdown",
   "id": "d6b4994c-fddc-4ef1-9551-841fc4606068",
   "metadata": {},
   "source": [
    "\n",
    "Covariance is a statistical measure that describes the extent to which two variables change together. It assesses the directional relationship between the movements of two variables, indicating whether they tend to increase or decrease simultaneously. A positive covariance suggests a positive relationship, meaning that as one variable increases, the other tends to increase as well, and vice versa for negative covariance.\n",
    "\n",
    "In statistical analysis, covariance is essential for understanding the degree to which variables are associated and the direction of that association. However, it doesn't provide a standardized measure, making it difficult to compare the strength of relationships across different pairs of variables. This limitation led to the development of correlation, which is a normalized version of covariance"
   ]
  },
  {
   "cell_type": "markdown",
   "id": "45314d11-17b0-4ece-8ef6-330af1d6f089",
   "metadata": {},
   "source": [
    "Q4. For a dataset with the following categorical variables: Color (red, green, blue), Size (small, medium,\n",
    "large), and Material (wood, metal, plastic), perform label encoding using Python's scikit-learn library.\n",
    "Show your code and explain the output."
   ]
  },
  {
   "cell_type": "code",
   "execution_count": 2,
   "id": "3b82534a-a184-4aeb-881a-68e792f05ce8",
   "metadata": {},
   "outputs": [
    {
     "name": "stdout",
     "output_type": "stream",
     "text": [
      "   Color    Size Material  Color_encoded  Size_encoded  Material_encoded\n",
      "0    red   small     wood              2             2                 2\n",
      "1  green  medium    metal              1             1                 0\n",
      "2   blue   large  plastic              0             0                 1\n",
      "3    red  medium     wood              2             1                 2\n",
      "4  green   small    metal              1             2                 0\n"
     ]
    }
   ],
   "source": [
    "from sklearn.preprocessing import LabelEncoder\n",
    "import pandas as pd\n",
    "data = {\n",
    "    'Color': ['red', 'green', 'blue', 'red', 'green'],\n",
    "    'Size': ['small', 'medium', 'large', 'medium', 'small'],\n",
    "    'Material': ['wood', 'metal', 'plastic', 'wood', 'metal']\n",
    "}\n",
    "\n",
    "df = pd.DataFrame(data)\n",
    "\n",
    "label_encoder = LabelEncoder()\n",
    "\n",
    "for column in df.columns:\n",
    "    df[column+'_encoded'] = label_encoder.fit_transform(df[column])\n",
    "\n",
    "print(df)\n"
   ]
  },
  {
   "cell_type": "markdown",
   "id": "d9001815-f0b5-48d9-b564-5b0aa7efef73",
   "metadata": {},
   "source": [
    "Q5. Calculate the covariance matrix for the following variables in a dataset: Age, Income, and Education\n",
    "level. Interpret the results."
   ]
  },
  {
   "cell_type": "code",
   "execution_count": 5,
   "id": "401d08f3-5fc9-4e8e-9da7-df6cde7ea021",
   "metadata": {},
   "outputs": [
    {
     "name": "stdout",
     "output_type": "stream",
     "text": [
      "[[3.530e+01 7.575e+04 1.850e+01]\n",
      " [7.575e+04 1.675e+08 4.000e+04]\n",
      " [1.850e+01 4.000e+04 1.000e+01]]\n"
     ]
    }
   ],
   "source": [
    "import numpy as np\n",
    "data = np.array([\n",
    "    [25, 50000, 12],\n",
    "    [30, 60000, 16],\n",
    "    [28, 55000, 14],\n",
    "    [35, 75000, 18],\n",
    "    [40, 80000, 20]\n",
    "])\n",
    "covariance_matrix = np.cov(data, rowvar=False)\n",
    "print(covariance_matrix)"
   ]
  },
  {
   "cell_type": "markdown",
   "id": "18766a23-9a58-4118-b7bd-94170778380b",
   "metadata": {},
   "source": [
    "Q6. You are working on a machine learning project with a dataset containing several categorical\n",
    "variables, including \"Gender\" (Male/Female), \"Education Level\" (High School/Bachelor's/Master's/PhD),\n",
    "and \"Employment Status\" (Unemployed/Part-Time/Full-Time). Which encoding method would you use for\n",
    "each variable, and why?"
   ]
  },
  {
   "cell_type": "markdown",
   "id": "b3a74af6-c161-4177-ad78-65d3b5931003",
   "metadata": {},
   "source": [
    "Gender (Nominal):\n",
    "\n",
    "Encoding Method: One-hot encoding.\n",
    "Explanation: Since gender has no inherent order, one-hot encoding is appropriate. It creates binary columns (e.g., \"Male\" and \"Female\") to represent the categories without introducing spurious ordinal relationships.\n",
    "\n",
    "Education Level (Ordinal):\n",
    "\n",
    "Encoding Method: Ordinal encoding.\n",
    "Explanation: Education level has a meaningful order (e.g., High School < Bachelor's < Master's < PhD). Ordinal encoding preserves this order, assigning numerical labels based on the ranking of categories.\n",
    "\n",
    "Employment Status (Nominal):\n",
    "\n",
    "Encoding Method: One-hot encoding.\n",
    "Explanation: Employment status is likely nominal since there's no inherent order. One-hot encoding is suitable to represent different employment statuses with binary columns, avoiding the introduction of false ordinal relationships."
   ]
  },
  {
   "cell_type": "markdown",
   "id": "9895da57-c96b-4033-b7dd-d6e1479c3103",
   "metadata": {},
   "source": [
    "Q7. You are analyzing a dataset with two continuous variables, \"Temperature\" and \"Humidity\", and two\n",
    "categorical variables, \"Weather Condition\" (Sunny/Cloudy/Rainy) and \"Wind Direction\" (North/South/\n",
    "East/West). Calculate the covariance between each pair of variables and interpret the results."
   ]
  },
  {
   "cell_type": "code",
   "execution_count": 11,
   "id": "4b99032f-080c-410c-a0fc-9bda12692704",
   "metadata": {},
   "outputs": [
    {
     "name": "stdout",
     "output_type": "stream",
     "text": [
      "[[ 1.70e+01 -2.50e+01 -1.25e+00  5.00e-01  7.50e-01 -7.50e-01  1.25e+00\n",
      "  -1.25e+00  7.50e-01]\n",
      " [-2.50e+01  9.25e+01  1.50e+00  3.00e+00 -4.50e+00  2.75e+00 -7.50e-01\n",
      "   1.50e+00 -3.50e+00]\n",
      " [-1.25e+00  1.50e+00  2.00e-01 -1.00e-01 -1.00e-01 -5.00e-02 -1.00e-01\n",
      "   2.00e-01 -5.00e-02]\n",
      " [ 5.00e-01  3.00e+00 -1.00e-01  3.00e-01 -2.00e-01  1.50e-01  5.00e-02\n",
      "  -1.00e-01 -1.00e-01]\n",
      " [ 7.50e-01 -4.50e+00 -1.00e-01 -2.00e-01  3.00e-01 -1.00e-01  5.00e-02\n",
      "  -1.00e-01  1.50e-01]\n",
      " [-7.50e-01  2.75e+00 -5.00e-02  1.50e-01 -1.00e-01  2.00e-01 -1.00e-01\n",
      "  -5.00e-02 -5.00e-02]\n",
      " [ 1.25e+00 -7.50e-01 -1.00e-01  5.00e-02  5.00e-02 -1.00e-01  3.00e-01\n",
      "  -1.00e-01 -1.00e-01]\n",
      " [-1.25e+00  1.50e+00  2.00e-01 -1.00e-01 -1.00e-01 -5.00e-02 -1.00e-01\n",
      "   2.00e-01 -5.00e-02]\n",
      " [ 7.50e-01 -3.50e+00 -5.00e-02 -1.00e-01  1.50e-01 -5.00e-02 -1.00e-01\n",
      "  -5.00e-02  2.00e-01]]\n"
     ]
    }
   ],
   "source": [
    "import numpy as np\n",
    "import pandas as pd\n",
    "from sklearn.preprocessing import OneHotEncoder\n",
    "data = {\n",
    "    'Temperature': [25, 20, 22, 28, 30],\n",
    "    'Humidity': [60, 70, 75, 50, 65],\n",
    "    'Weather Condition': ['Sunny', 'Cloudy', 'Rainy', 'Sunny', 'Rainy'],\n",
    "    'Wind Direction': ['North', 'South', 'East', 'West', 'North']\n",
    "}\n",
    "\n",
    "df = pd.DataFrame(data)\n",
    "encoder = OneHotEncoder(sparse_output=False)\n",
    "encoded_categorical = encoder.fit_transform(df[['Weather Condition', 'Wind Direction']])\n",
    "encoded_df = pd.concat([df[['Temperature', 'Humidity']], pd.DataFrame(encoded_categorical, columns=encoder.get_feature_names_out(['Weather Condition', 'Wind Direction']))], axis=1)\n",
    "covariance_matrix = np.cov(encoded_df, rowvar=False)\n",
    "print(covariance_matrix)\n"
   ]
  },
  {
   "cell_type": "code",
   "execution_count": null,
   "id": "73553644-3ed8-4d8d-94b5-0a815b951da2",
   "metadata": {},
   "outputs": [],
   "source": []
  }
 ],
 "metadata": {
  "kernelspec": {
   "display_name": "Python 3 (ipykernel)",
   "language": "python",
   "name": "python3"
  },
  "language_info": {
   "codemirror_mode": {
    "name": "ipython",
    "version": 3
   },
   "file_extension": ".py",
   "mimetype": "text/x-python",
   "name": "python",
   "nbconvert_exporter": "python",
   "pygments_lexer": "ipython3",
   "version": "3.10.8"
  }
 },
 "nbformat": 4,
 "nbformat_minor": 5
}
