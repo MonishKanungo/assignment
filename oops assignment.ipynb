{
 "cells": [
  {
   "cell_type": "code",
   "execution_count": 6,
   "id": "9cac05bd-ab85-4b14-81dd-9102aa44e289",
   "metadata": {},
   "outputs": [
    {
     "name": "stdout",
     "output_type": "stream",
     "text": [
      "this ia an animal class\n"
     ]
    }
   ],
   "source": [
    "#Class is a blueprint Which defines some properties and behaviours\n",
    "#object is an instance of an class\n",
    "class animal: #animal is a class \n",
    "    def return_value(self):\n",
    "        print(\"this ia an animal class\")\n",
    "horse=animal() #horse is an object means giving object defination\n",
    "horse.return_value()\n",
    "        \n"
   ]
  },
  {
   "cell_type": "code",
   "execution_count": 7,
   "id": "c3eb4e3f-bda3-4c81-8014-eab1ffa7139c",
   "metadata": {},
   "outputs": [
    {
     "data": {
      "text/plain": [
       "'Four pillars of oops is\\n1.encapsulation\\n2. inheritance\\n3. polymorphism\\n4. Abstraction'"
      ]
     },
     "execution_count": 7,
     "metadata": {},
     "output_type": "execute_result"
    }
   ],
   "source": [
    "\"\"\"Four pillars of oops is\n",
    "1.encapsulation\n",
    "2. inheritance\n",
    "3. polymorphism\n",
    "4. Abstraction\"\"\""
   ]
  },
  {
   "cell_type": "code",
   "execution_count": 13,
   "id": "a936a0f9-879b-4509-94ea-193d55d78ff0",
   "metadata": {},
   "outputs": [
    {
     "data": {
      "text/plain": [
       "('Aspire1256', 'Aspire')"
      ]
     },
     "execution_count": 13,
     "metadata": {},
     "output_type": "execute_result"
    }
   ],
   "source": [
    "\"\"\"__int__ is like a constructor .it helps to initialize data memebers in the class \"\"\"\n",
    "class laptop:\n",
    "    def __init__(self,name,model):\n",
    "         self.model=model\n",
    "         self.name=name\n",
    "    def return_values(self):\n",
    "        return self.model,self.name\n",
    "Acer=laptop(\"Aspire\",\"Aspire1256\")\n",
    "Acer.return_values()\n",
    "    "
   ]
  },
  {
   "cell_type": "code",
   "execution_count": 15,
   "id": "324112dc-cf70-4efb-8365-9bc6cec0e0ba",
   "metadata": {},
   "outputs": [
    {
     "data": {
      "text/plain": [
       "'self is a like an instance it points to an current object'"
      ]
     },
     "execution_count": 15,
     "metadata": {},
     "output_type": "execute_result"
    }
   ],
   "source": [
    "\"\"\"self is a like an instance it points to an current object\"\"\""
   ]
  },
  {
   "cell_type": "code",
   "execution_count": 16,
   "id": "0143a9c6-c394-4754-958a-b7a0ce27ac60",
   "metadata": {},
   "outputs": [
    {
     "data": {
      "text/plain": [
       "'simple inheritance -means there is class of animal and dog is a child class dog inherits animal\\nmultilevel inheritance -means there is class of animal,aquatic,fish so fish inherits aquatic and aquatic inherits animal\\nmultiple inheritance -means there is a class reptile,aquatic and turtle so turtle class will inherits the properites of both aquatic and reptile\\nhirearical inheritance- means there is classes animal,aquatic,terrestrial so aquatic and terrestrial classes both will inherit the properties of animal classs\\nhybrid inheritance -it is combination of multilevel and hirearical for ex- there is class animal,reptile,aquatic,turtle\\nso turtle class will inherit reptile and aquatic and this two inherit animal class '"
      ]
     },
     "execution_count": 16,
     "metadata": {},
     "output_type": "execute_result"
    }
   ],
   "source": [
    "\"\"\"inheritance is a special type of feature in which child class inherits all the property of parent class \"\"\"\n",
    "\"\"\"simple inheritance -means there is class of animal and dog is a child class dog inherits animal\n",
    "multilevel inheritance -means there is class of animal,aquatic,fish so fish inherits aquatic and aquatic inherits animal\n",
    "multiple inheritance -means there is a class reptile,aquatic and turtle so turtle class will inherits the properites of both aquatic and reptile\n",
    "hirearical inheritance- means there is classes animal,aquatic,terrestrial so aquatic and terrestrial classes both will inherit the properties of animal classs\n",
    "hybrid inheritance -it is combination of multilevel and hirearical for ex- there is class animal,reptile,aquatic,turtle\n",
    "so turtle class will inherit reptile and aquatic and this two inherit animal class \"\"\"\n",
    "\n"
   ]
  },
  {
   "cell_type": "code",
   "execution_count": null,
   "id": "fa8b8184-a202-4ff1-91fe-c3775bc2ea2d",
   "metadata": {},
   "outputs": [],
   "source": []
  }
 ],
 "metadata": {
  "kernelspec": {
   "display_name": "Python 3 (ipykernel)",
   "language": "python",
   "name": "python3"
  },
  "language_info": {
   "codemirror_mode": {
    "name": "ipython",
    "version": 3
   },
   "file_extension": ".py",
   "mimetype": "text/x-python",
   "name": "python",
   "nbconvert_exporter": "python",
   "pygments_lexer": "ipython3",
   "version": "3.10.8"
  }
 },
 "nbformat": 4,
 "nbformat_minor": 5
}
