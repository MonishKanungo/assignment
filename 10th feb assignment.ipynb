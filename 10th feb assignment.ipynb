{
 "cells": [
  {
   "cell_type": "code",
   "execution_count": 1,
   "id": "1165f5b2-d3ce-4e77-8e0d-079d26e4ced9",
   "metadata": {},
   "outputs": [
    {
     "data": {
      "text/plain": [
       "'The built-in \\'open()\\' function is used to open a file. The \\'open()\\' function takes two arguments: the path to the file to be opened and the mode in which the file should be opened.\\nThe different modes of opening a file in Python are:\\n\"r\" (read-only mode)\\nThis mode is used to read the contents of a file. It is the default mode if no mode is specified. In read-only mode, the file pointer is positioned at the beginning of the file, and you can only read from the file.\\n\"w\" (write mode)\\nThis mode is used to write data to a file. If the file already exists, its contents will be overwritten. If the file doesn\\'t exist, it will be created. In write mode, the file pointer is positioned at the beginning of the file.\\n\"a\" (append mode)\\nThis mode is used to append data to a file. If the file already exists, new data will be added to the end of the file. If the file doesn\\'t exist, it will be created. In append mode, the file pointer is positioned at the end of the file.\\n\"x\" (exclusive creation mode)\\nThis mode is used to create a new file, but it will fail if the file already exists. In exclusive creation mode, the file pointer is positioned at the beginning of the file.\\n\"b\" (binary mode)\\nThis mode is used to open a file in binary mode. This is usually used when reading or writing non-text files such as images or audio files. If this mode is not specified, the default mode is text mode.\\n\"t\" (text mode)\\nThis mode is used to open a file in text mode. This is the default mode if no mode is specified. In text mode, the contents of the file are treated as text, and are encoded and decoded automatically by Python.'"
      ]
     },
     "execution_count": 1,
     "metadata": {},
     "output_type": "execute_result"
    }
   ],
   "source": [
    "#Q1\n",
    "\"\"\"The built-in 'open()' function is used to open a file. The 'open()' function takes two arguments: the path to the file to be opened and the mode in which the file should be opened.\n",
    "The different modes of opening a file in Python are:\n",
    "\"r\" (read-only mode)\n",
    "This mode is used to read the contents of a file. It is the default mode if no mode is specified. In read-only mode, the file pointer is positioned at the beginning of the file, and you can only read from the file.\n",
    "\"w\" (write mode)\n",
    "This mode is used to write data to a file. If the file already exists, its contents will be overwritten. If the file doesn't exist, it will be created. In write mode, the file pointer is positioned at the beginning of the file.\n",
    "\"a\" (append mode)\n",
    "This mode is used to append data to a file. If the file already exists, new data will be added to the end of the file. If the file doesn't exist, it will be created. In append mode, the file pointer is positioned at the end of the file.\n",
    "\"x\" (exclusive creation mode)\n",
    "This mode is used to create a new file, but it will fail if the file already exists. In exclusive creation mode, the file pointer is positioned at the beginning of the file.\n",
    "\"b\" (binary mode)\n",
    "This mode is used to open a file in binary mode. This is usually used when reading or writing non-text files such as images or audio files. If this mode is not specified, the default mode is text mode.\n",
    "\"t\" (text mode)\n",
    "This mode is used to open a file in text mode. This is the default mode if no mode is specified. In text mode, the contents of the file are treated as text, and are encoded and decoded automatically by Python.\"\"\""
   ]
  },
  {
   "cell_type": "code",
   "execution_count": 2,
   "id": "f42ac5e4-cebd-450d-8672-ccfa66b1dbba",
   "metadata": {},
   "outputs": [
    {
     "data": {
      "text/plain": [
       "\"The 'close()' function is used to close a file after it has been opened using the 'open()' function in Python.\\nIt is important to close a file after it has been used for several reasons:\""
      ]
     },
     "execution_count": 2,
     "metadata": {},
     "output_type": "execute_result"
    }
   ],
   "source": [
    "#Q2\n",
    "\"\"\"The 'close()' function is used to close a file after it has been opened using the 'open()' function in Python.\n",
    "It is important to close a file after it has been used for several reasons:\"\"\""
   ]
  },
  {
   "cell_type": "code",
   "execution_count": 3,
   "id": "980e08bf-f220-4207-b64a-9df38be2ba6b",
   "metadata": {},
   "outputs": [
    {
     "data": {
      "text/plain": [
       "'Resource management\\nWhen a file is opened, system resources (such as memory) are allocated to the file. If the file is not closed properly, these resources will not be released back to the system, which can cause issues such as memory leaks. By closing the file, these resources are released back to the system.\\nData integrity\\nWhen a file is opened in write or append mode, data is buffered in memory before it is written to the file. If the file is not closed properly, this buffered data may not be written to the file, which can result in data loss or corruption. By closing the file, any buffered data is written to the file before it is closed.\\nFile locking\\nIn some operating systems, files that are opened by a process are locked and cannot be accessed by other processes. If a file is not closed properly, it may remain locked, preventing other processes from accessing or modifying the file. By closing the file, the file lock is released.'"
      ]
     },
     "execution_count": 3,
     "metadata": {},
     "output_type": "execute_result"
    }
   ],
   "source": [
    "\"\"\"Resource management\n",
    "When a file is opened, system resources (such as memory) are allocated to the file. If the file is not closed properly, these resources will not be released back to the system, which can cause issues such as memory leaks. By closing the file, these resources are released back to the system.\n",
    "Data integrity\n",
    "When a file is opened in write or append mode, data is buffered in memory before it is written to the file. If the file is not closed properly, this buffered data may not be written to the file, which can result in data loss or corruption. By closing the file, any buffered data is written to the file before it is closed.\n",
    "File locking\n",
    "In some operating systems, files that are opened by a process are locked and cannot be accessed by other processes. If a file is not closed properly, it may remain locked, preventing other processes from accessing or modifying the file. By closing the file, the file lock is released.\"\"\""
   ]
  },
  {
   "cell_type": "code",
   "execution_count": 9,
   "id": "392f64e6-2c0e-4b5f-9b75-ed251cce5b95",
   "metadata": {},
   "outputs": [
    {
     "name": "stdout",
     "output_type": "stream",
     "text": [
      "I want to become a Data Scientist\n"
     ]
    }
   ],
   "source": [
    "#Q3\n",
    "with open(\"test3.txt\",'w') as f:\n",
    "    f.write(\"I want to become a Data Scientist\")\n",
    "with open(\"test3.txt\",'r') as f:\n",
    "    data=f.read()\n",
    "    print(data)\n",
    "    "
   ]
  },
  {
   "cell_type": "code",
   "execution_count": 13,
   "id": "772c316c-b8f5-4ff9-9c7a-7558388b3b2a",
   "metadata": {},
   "outputs": [],
   "source": [
    "with open(\"test4.txt\",'w') as f:\n",
    "    f.write(\"But data scientists tend to have more responsibility and are generally considered more senior than data analysts. Data scientists are often expected to form their own questions about the data, while data analysts might support teams that already have set goals in mind.\")"
   ]
  },
  {
   "cell_type": "code",
   "execution_count": 14,
   "id": "a50cbc76-09b4-4f11-b3f0-0cbfc7ee3243",
   "metadata": {},
   "outputs": [
    {
     "name": "stdout",
     "output_type": "stream",
     "text": [
      "But data scientists tend to have more responsibility and are generally considered more senior than data analysts. Data scientists are often expected to form their own questions about the data, while data analysts might support teams that already have set goals in mind.\n"
     ]
    }
   ],
   "source": [
    "#Q4 \n",
    "\"\"\"read() method is used to read entire data of a file\"\"\"\n",
    "with open(\"test4.txt\",'r') as f:\n",
    "    print(f.read())\n"
   ]
  },
  {
   "cell_type": "code",
   "execution_count": 16,
   "id": "c5d42834-77d6-4c1d-bae6-ea259813f695",
   "metadata": {},
   "outputs": [
    {
     "name": "stdout",
     "output_type": "stream",
     "text": [
      "But data scientists tend to have more responsibility and are generally considered more senior than data analysts. Data scientists are often expected to form their own questions about the data, while data analysts might support teams that already have set goals in mind.\n"
     ]
    }
   ],
   "source": [
    "\"\"\"Readline() method is used to read each line of text from a file\"\"\"\n",
    "with open(\"test4.txt\", \"r\") as f:\n",
    "    line1=f.readline()\n",
    "    print(line1)"
   ]
  },
  {
   "cell_type": "code",
   "execution_count": 18,
   "id": "dc21f20e-b530-403b-adfa-d9c44fafb705",
   "metadata": {},
   "outputs": [
    {
     "name": "stdout",
     "output_type": "stream",
     "text": [
      "['But data scientists tend to have more responsibility and are generally considered more senior than data analysts. Data scientists are often expected to form their own questions about the data, while data analysts might support teams that already have set goals in mind.']\n"
     ]
    }
   ],
   "source": [
    "\"\"\" The 'readlines()' method reads all the lines of text from a file and returns them as a list of strings\"\"\"\n",
    "with open(\"test4.txt\", \"r\") as file:\n",
    "    line= file.readlines()\n",
    "    print(line)"
   ]
  },
  {
   "cell_type": "code",
   "execution_count": 20,
   "id": "5048facb-6fcd-4dc2-bd16-4e94af6019f8",
   "metadata": {},
   "outputs": [
    {
     "data": {
      "text/plain": [
       "\"The 'with' statement ensures that the file is automatically closed after the code block is executed, regardless of whether an exception is raised or not. by using with and open together you don't need to worry about explicitly closing the file, which can help avoid errors that may occur due to forgetting to close the file.\""
      ]
     },
     "execution_count": 20,
     "metadata": {},
     "output_type": "execute_result"
    }
   ],
   "source": [
    "#Q5\n",
    "\"\"\"The 'with' statement ensures that the file is automatically closed after the code block is executed, regardless of whether an exception is raised or not. by using with and open together you don't need to worry about explicitly closing the file, which can help avoid errors that may occur due to forgetting to close the file.\"\"\""
   ]
  },
  {
   "cell_type": "code",
   "execution_count": 21,
   "id": "f9e7fdff-8fae-46ec-8870-c7f3d28c4e01",
   "metadata": {},
   "outputs": [],
   "source": [
    "#Q6\n",
    "\"\"\"The 'write()' function is used to write a single string of data to a file. \"\"\"\n",
    "with open('name.txt', 'w') as file:\n",
    "    file.write('This is the first line.\\n')\n",
    "    file.write('This is the second line.\\n')"
   ]
  },
  {
   "cell_type": "code",
   "execution_count": null,
   "id": "3a52b534-ddad-4a1d-9b60-a66612b2e664",
   "metadata": {},
   "outputs": [],
   "source": [
    "\"\"\"The 'writelines()' function is used to write a sequence of strings to a file\"\"\"\"\n",
    "with open('name.txt', 'w') as file:\n",
    "    lines = ['This is the first line.\\n', 'This is the second line.\\n']\n",
    "    file.writelines(lines)"
   ]
  }
 ],
 "metadata": {
  "kernelspec": {
   "display_name": "Python 3 (ipykernel)",
   "language": "python",
   "name": "python3"
  },
  "language_info": {
   "codemirror_mode": {
    "name": "ipython",
    "version": 3
   },
   "file_extension": ".py",
   "mimetype": "text/x-python",
   "name": "python",
   "nbconvert_exporter": "python",
   "pygments_lexer": "ipython3",
   "version": "3.10.8"
  }
 },
 "nbformat": 4,
 "nbformat_minor": 5
}
