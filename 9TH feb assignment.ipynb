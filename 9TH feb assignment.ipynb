{
 "cells": [
  {
   "cell_type": "code",
   "execution_count": 8,
   "id": "a139c398-4b2d-4799-bb8f-382199b9e84d",
   "metadata": {},
   "outputs": [
    {
     "data": {
      "text/plain": [
       "'Q1'"
      ]
     },
     "execution_count": 8,
     "metadata": {},
     "output_type": "execute_result"
    }
   ],
   "source": [
    "\"\"\"Q1\"\"\""
   ]
  },
  {
   "cell_type": "code",
   "execution_count": 1,
   "id": "b9cdaa5c-d6cd-44fa-a383-f8e701d3785e",
   "metadata": {},
   "outputs": [],
   "source": [
    "\n",
    "class vehicle:\n",
    "    def __init__(self,name_of_vehicle,max_speed,average_of_vehicle):\n",
    "        self.name_of_vehicle=name_of_vehicle\n",
    "        self.max_speed=max_speed\n",
    "        self.average_of_vehicle=average_of_vehicle\n",
    "        \n",
    "        \n",
    "        "
   ]
  },
  {
   "cell_type": "code",
   "execution_count": 2,
   "id": "fff6eaf4-0b87-4b1a-80f0-2f485c18bf82",
   "metadata": {},
   "outputs": [],
   "source": [
    "Obj=vehicle(\"TATA\",160,90)"
   ]
  },
  {
   "cell_type": "code",
   "execution_count": 7,
   "id": "f9b2859e-50cc-44fc-bbf3-abe5e41e0486",
   "metadata": {},
   "outputs": [
    {
     "data": {
      "text/plain": [
       "'TATA'"
      ]
     },
     "execution_count": 7,
     "metadata": {},
     "output_type": "execute_result"
    }
   ],
   "source": [
    "Obj.name_of_vehicle"
   ]
  },
  {
   "cell_type": "code",
   "execution_count": 5,
   "id": "d73acbba-cf5d-4219-99fd-d5e6635e537c",
   "metadata": {},
   "outputs": [
    {
     "data": {
      "text/plain": [
       "160"
      ]
     },
     "execution_count": 5,
     "metadata": {},
     "output_type": "execute_result"
    }
   ],
   "source": [
    "Obj.max_speed"
   ]
  },
  {
   "cell_type": "code",
   "execution_count": 6,
   "id": "760ad5e4-127c-4de1-b405-6f8ac13051d4",
   "metadata": {},
   "outputs": [
    {
     "data": {
      "text/plain": [
       "80"
      ]
     },
     "execution_count": 6,
     "metadata": {},
     "output_type": "execute_result"
    }
   ],
   "source": [
    "Obj.average_of_vehicle"
   ]
  },
  {
   "cell_type": "code",
   "execution_count": 9,
   "id": "362927c7-aeac-47f4-a0d6-1f81cf97cdec",
   "metadata": {},
   "outputs": [
    {
     "data": {
      "text/plain": [
       "'Q2'"
      ]
     },
     "execution_count": 9,
     "metadata": {},
     "output_type": "execute_result"
    }
   ],
   "source": [
    "\"\"\"Q2\"\"\""
   ]
  },
  {
   "cell_type": "code",
   "execution_count": 24,
   "id": "712a73f3-f512-42cf-a345-207d4b99f1fa",
   "metadata": {},
   "outputs": [],
   "source": [
    "class child_car(vehicle):\n",
    "    def seating_capacity(self,capacity):\n",
    "        return f\"{self.name_of_vehicle} have a capacity of {capacity} seats\""
   ]
  },
  {
   "cell_type": "code",
   "execution_count": 25,
   "id": "c5738ab0-a616-490e-8c0e-ca338687158a",
   "metadata": {},
   "outputs": [],
   "source": [
    "Obj=child_car(\"TATA\",160,90)\n"
   ]
  },
  {
   "cell_type": "code",
   "execution_count": 26,
   "id": "7617cfde-1fc1-4194-88c5-36393fa6b1e9",
   "metadata": {},
   "outputs": [
    {
     "data": {
      "text/plain": [
       "'TATA have a capacity of 5 seats'"
      ]
     },
     "execution_count": 26,
     "metadata": {},
     "output_type": "execute_result"
    }
   ],
   "source": [
    "Obj.seating_capacity(5)"
   ]
  },
  {
   "cell_type": "code",
   "execution_count": 4,
   "id": "7c9781fe-43c7-4d45-9c39-c3af3a3ad6dc",
   "metadata": {},
   "outputs": [
    {
     "data": {
      "text/plain": [
       "'multiple inheritance is the one of the type of Inheritance and feature of object oriented programming. \\nIn which child class inherit the properties of one or more parent class \\nFor example you have a class named \"Car\" and another class \"XUV\" and a class \"Scorpio\" so this  Scorpio class will inherit the properties  of both \"car\" and \"XUV\" class'"
      ]
     },
     "execution_count": 4,
     "metadata": {},
     "output_type": "execute_result"
    }
   ],
   "source": [
    "#Q3\n",
    "\"\"\"multiple inheritance is the one of the type of Inheritance and feature of object oriented programming. \n",
    "In which child class inherit the properties of one or more parent class \n",
    "For example you have a class named \"Car\" and another class \"XUV\" and a class \"Scorpio\" so this  Scorpio class will inherit the properties  of both \"car\" and \"XUV\" class\"\"\"\n"
   ]
  },
  {
   "cell_type": "code",
   "execution_count": 26,
   "id": "e5984da2-a5cd-4e31-b786-f257aa902f3b",
   "metadata": {},
   "outputs": [
    {
     "name": "stdout",
     "output_type": "stream",
     "text": [
      "In Class1\n"
     ]
    }
   ],
   "source": [
    "class Class1:\n",
    "    def m(self):\n",
    "        print(\"In Class1\")\n",
    "       \n",
    "class Class2(Class1):\n",
    "    def m1(self):\n",
    "        print(\"In Class2\")\n",
    " \n",
    "class Class3(Class1):\n",
    "    def m2(self):\n",
    "        print(\"In Class3\") \n",
    "        \n",
    "class Class4(Class2, Class3): #Multiple inheritance\n",
    "    pass  \n",
    "     \n",
    "obj = Class4()\n",
    "obj.m()\n",
    "obj.m1()\n",
    "obj.m2()"
   ]
  },
  {
   "cell_type": "code",
   "execution_count": 27,
   "id": "65e35c44-28eb-46c5-be46-348c828a48b5",
   "metadata": {},
   "outputs": [
    {
     "data": {
      "text/plain": [
       "'Getter is a method that allows you to access an attribute in a given class\\nSetter is a method that allows you to set the value of an attribute in a class'"
      ]
     },
     "execution_count": 27,
     "metadata": {},
     "output_type": "execute_result"
    }
   ],
   "source": [
    "#Q4\n",
    "\"\"\"Getter is a method that allows you to access an attribute in a given class\n",
    "Setter is a method that allows you to set the value of an attribute in a class\"\"\""
   ]
  },
  {
   "cell_type": "code",
   "execution_count": 36,
   "id": "3b24aa9e-2d60-4f65-bc6d-13d451b2f877",
   "metadata": {},
   "outputs": [],
   "source": [
    "class Student:\n",
    "    def __init__(self):\n",
    "        self.name = None\n",
    "        self.id = 0\n",
    "        \n",
    "    def set_values(self, name, id):\n",
    "        self.name = name\n",
    "        self.id = id\n",
    "        \n",
    "    def get_values(self):\n",
    "        return self.name, self.id"
   ]
  },
  {
   "cell_type": "code",
   "execution_count": 40,
   "id": "90b62ce3-614b-43f3-b786-0a4738251892",
   "metadata": {},
   "outputs": [],
   "source": [
    "obj=Student()"
   ]
  },
  {
   "cell_type": "code",
   "execution_count": 41,
   "id": "2d5e4ea3-ab50-4f01-a4c4-4c9b0d1a801a",
   "metadata": {},
   "outputs": [],
   "source": [
    "obj.set_values(\"Monish\",23894)"
   ]
  },
  {
   "cell_type": "code",
   "execution_count": 42,
   "id": "2165be3d-2d90-4c43-b7c9-f00cd783e89f",
   "metadata": {},
   "outputs": [
    {
     "name": "stdout",
     "output_type": "stream",
     "text": [
      "('Monish', 23894)\n"
     ]
    }
   ],
   "source": [
    "print(obj.get_values())"
   ]
  },
  {
   "cell_type": "code",
   "execution_count": 43,
   "id": "10273d81-9c60-4fb7-a57b-ce8a4e0fbf4f",
   "metadata": {},
   "outputs": [
    {
     "data": {
      "text/plain": [
       "'Method overiding is one of the feature of Object orirnted programming in which child class have same method which is already present in super class or parent class so when child have same methods that means have same name,attributes as parent so child class is said to override the parenrt class '"
      ]
     },
     "execution_count": 43,
     "metadata": {},
     "output_type": "execute_result"
    }
   ],
   "source": [
    "#Q5\n",
    "\"\"\"Method overiding is one of the feature of Object orirnted programming in which child class have same method which is already present in super class or parent class so when child have same methods that means have same name,attributes as parent so child class is said to override the parenrt class \"\"\""
   ]
  },
  {
   "cell_type": "code",
   "execution_count": 44,
   "id": "325d898d-7b6d-421a-a382-9bfa341de496",
   "metadata": {},
   "outputs": [],
   "source": [
    "class Parent:\n",
    "    def __init__(self):\n",
    "        self.values=\"Parent\"\n",
    "        \n",
    "    def get(self):\n",
    "        print(self.values)\n",
    "class Child:\n",
    "    def __init__(self):\n",
    "        self.values=\"child\"\n",
    "    def get(self):\n",
    "        print(self.values)"
   ]
  },
  {
   "cell_type": "code",
   "execution_count": 45,
   "id": "4a780464-5f3f-4c33-93c1-0398deaf7a16",
   "metadata": {},
   "outputs": [],
   "source": [
    "obj=Parent()\n",
    "obj1=Child()\n"
   ]
  },
  {
   "cell_type": "code",
   "execution_count": 46,
   "id": "45b78272-59e9-4993-9988-493a9c21bda1",
   "metadata": {},
   "outputs": [
    {
     "name": "stdout",
     "output_type": "stream",
     "text": [
      "Parent\n"
     ]
    }
   ],
   "source": [
    "obj.get()"
   ]
  },
  {
   "cell_type": "code",
   "execution_count": 47,
   "id": "a3e15962-7c35-4af1-abff-070ac49d34ec",
   "metadata": {},
   "outputs": [
    {
     "name": "stdout",
     "output_type": "stream",
     "text": [
      "child\n"
     ]
    }
   ],
   "source": [
    "obj1.get()"
   ]
  },
  {
   "cell_type": "code",
   "execution_count": null,
   "id": "4d61ee02-921b-4740-b42d-08ae210f7885",
   "metadata": {},
   "outputs": [],
   "source": []
  }
 ],
 "metadata": {
  "kernelspec": {
   "display_name": "Python 3 (ipykernel)",
   "language": "python",
   "name": "python3"
  },
  "language_info": {
   "codemirror_mode": {
    "name": "ipython",
    "version": 3
   },
   "file_extension": ".py",
   "mimetype": "text/x-python",
   "name": "python",
   "nbconvert_exporter": "python",
   "pygments_lexer": "ipython3",
   "version": "3.10.8"
  }
 },
 "nbformat": 4,
 "nbformat_minor": 5
}
