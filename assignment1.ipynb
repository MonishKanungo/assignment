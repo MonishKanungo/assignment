{
 "cells": [
  {
   "cell_type": "code",
   "execution_count": 3,
   "id": "ae786d03-61e7-4b80-bddf-a2e994df3c45",
   "metadata": {},
   "outputs": [
    {
     "ename": "SyntaxError",
     "evalue": "invalid syntax (3071749792.py, line 2)",
     "output_type": "error",
     "traceback": [
      "\u001b[0;36m  Cell \u001b[0;32mIn[3], line 2\u001b[0;36m\u001b[0m\n\u001b[0;31m    we will use for loop and while loop when we needed iterations\u001b[0m\n\u001b[0m       ^\u001b[0m\n\u001b[0;31mSyntaxError\u001b[0m\u001b[0;31m:\u001b[0m invalid syntax\n"
     ]
    }
   ],
   "source": [
    "Q1 \n",
    "we will use for loop and while loop when we needed iterations \n"
   ]
  },
  {
   "cell_type": "code",
   "execution_count": 7,
   "id": "683c1aa3-b21b-497c-9b99-81f58241ed57",
   "metadata": {},
   "outputs": [
    {
     "data": {
      "text/plain": [
       "55"
      ]
     },
     "execution_count": 7,
     "metadata": {},
     "output_type": "execute_result"
    }
   ],
   "source": [
    "sum=0\n",
    "s={1,2,3,4,5,6,7,8,9,10}\n",
    "for i in s:\n",
    "    sum=sum+i\n",
    "sum"
   ]
  },
  {
   "cell_type": "code",
   "execution_count": null,
   "id": "4c4d772e-0f1b-47e1-9f77-d26c433d9098",
   "metadata": {},
   "outputs": [],
   "source": [
    "#Q2\n",
    "sum=0\n",
    "product=1\n",
    "s={1,2,3,4,5,6,7,8,9,10}\n",
    "for i in s:\n",
    "    sum=sum+i\n",
    "    product=product*i\n",
    "print(\"Sum of 10 natural no. is\",sum)\n",
    "print(\"Product of 10 natural no. is\",product)\n"
   ]
  },
  {
   "cell_type": "code",
   "execution_count": null,
   "id": "22a861db-3636-4a9c-a3c0-322600428385",
   "metadata": {},
   "outputs": [],
   "source": [
    "units=eval(input(\"Enter units of Electricty\"))\n",
    "if units<=100:\n",
    "    print(\"Bill amount is \",units*4.5)\n",
    "elif units>100 or units<=200:\n",
    "     print(\"Bill amount is \",units*6)\n",
    "elif units>200 or units<=300:\n",
    "    print(\"Bill amount is \",units*10)\n",
    "else:\n",
    "    print(\"Bill amount is \",units*20)\n",
    "           \n",
    "           \n",
    "           "
   ]
  },
  {
   "cell_type": "code",
   "execution_count": 4,
   "id": "60edd9a8-be98-4f2c-9ef3-ed7a0a212515",
   "metadata": {},
   "outputs": [
    {
     "name": "stdout",
     "output_type": "stream",
     "text": [
      "[2, 4, 5, 6, 8, 10, 12, 14, 15, 16, 18, 20, 22, 24, 25, 26, 28, 30, 32, 34, 35, 36, 38, 40, 42, 44, 45, 46, 48, 50, 52, 54, 55, 56, 58, 60, 62, 64, 65, 66, 68, 70, 72, 74, 75, 76, 78, 80, 82, 84, 85, 86, 88, 90, 92, 94, 95, 96, 98, 100]\n"
     ]
    }
   ],
   "source": [
    "lst = []\n",
    "for num in range(1, 101):\n",
    "    cube = num ** 3\n",
    "    if cube % 4 == 0 or cube % 5 == 0:\n",
    "        lst.append(num)\n",
    "print(lst)\n",
    "\n",
    "\n",
    "    \n",
    "    "
   ]
  },
  {
   "cell_type": "code",
   "execution_count": 1,
   "id": "18aaab20-8bcd-4e30-b7e9-1a8d058b1edf",
   "metadata": {},
   "outputs": [
    {
     "name": "stdout",
     "output_type": "stream",
     "text": [
      "Number of vowels are:\n",
      "12\n"
     ]
    }
   ],
   "source": [
    "string=\"I want to become a data scientist\"\n",
    "vowels=0\n",
    "for i in string:\n",
    "      if(i=='a' or i=='e' or i=='i' or i=='o' or i=='u' or i=='A' or i=='E' or i=='I' or i=='O' or i=='U'):\n",
    "            vowels=vowels+1\n",
    "print(\"Number of vowels are:\")\n",
    "print(vowels)\n"
   ]
  },
  {
   "cell_type": "code",
   "execution_count": 3,
   "id": "118f2e81-483b-447e-9cb3-6a7d6679cb4f",
   "metadata": {},
   "outputs": [
    {
     "name": "stdout",
     "output_type": "stream",
     "text": [
      "[2, 4, 5, 6, 8, 10, 12, 14, 15, 16, 18, 20, 22, 24, 25, 26, 28, 30, 32, 34, 35, 36, 38, 40, 42, 44, 45, 46, 48, 50, 52, 54, 55, 56, 58, 60, 62, 64, 65, 66, 68, 70, 72, 74, 75, 76, 78, 80, 82, 84, 85, 86, 88, 90, 92, 94, 95, 96, 98, 100]\n"
     ]
    }
   ],
   "source": [
    "azz"
   ]
  },
  {
   "cell_type": "code",
   "execution_count": null,
   "id": "53d100a6-9044-4e39-bb17-d423f2994a1c",
   "metadata": {},
   "outputs": [],
   "source": []
  }
 ],
 "metadata": {
  "kernelspec": {
   "display_name": "Python 3 (ipykernel)",
   "language": "python",
   "name": "python3"
  },
  "language_info": {
   "codemirror_mode": {
    "name": "ipython",
    "version": 3
   },
   "file_extension": ".py",
   "mimetype": "text/x-python",
   "name": "python",
   "nbconvert_exporter": "python",
   "pygments_lexer": "ipython3",
   "version": "3.10.8"
  }
 },
 "nbformat": 4,
 "nbformat_minor": 5
}
