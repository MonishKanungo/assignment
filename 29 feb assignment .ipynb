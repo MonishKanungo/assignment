{
 "cells": [
  {
   "cell_type": "code",
   "execution_count": 1,
   "id": "ddb78988-6a8f-46d7-9ddf-560d47538756",
   "metadata": {},
   "outputs": [
    {
     "data": {
      "text/plain": [
       "'1. Guido van Rossum'"
      ]
     },
     "execution_count": 1,
     "metadata": {},
     "output_type": "execute_result"
    }
   ],
   "source": [
    "\"\"\"1. Guido van Rossum\"\"\""
   ]
  },
  {
   "cell_type": "code",
   "execution_count": 2,
   "id": "ea232580-6473-48dd-83a6-5b5962e50f3e",
   "metadata": {},
   "outputs": [
    {
     "data": {
      "text/plain": [
       "'2. Object-oriented programming and structured programming'"
      ]
     },
     "execution_count": 2,
     "metadata": {},
     "output_type": "execute_result"
    }
   ],
   "source": [
    "\"\"\"2. Object-oriented programming and structured programming\"\"\""
   ]
  },
  {
   "cell_type": "code",
   "execution_count": 7,
   "id": "201820c5-1e30-482f-9539-9a7082dc6d30",
   "metadata": {},
   "outputs": [
    {
     "data": {
      "text/plain": [
       "'3.yes python is case sensitive'"
      ]
     },
     "execution_count": 7,
     "metadata": {},
     "output_type": "execute_result"
    }
   ],
   "source": [
    "\"\"\"3.yes python is case sensitive\"\"\""
   ]
  },
  {
   "cell_type": "code",
   "execution_count": 8,
   "id": "49875b4b-f3e5-4685-87b7-64552c526f2a",
   "metadata": {},
   "outputs": [
    {
     "data": {
      "text/plain": [
       "' 4. extension of python file is .py'"
      ]
     },
     "execution_count": 8,
     "metadata": {},
     "output_type": "execute_result"
    }
   ],
   "source": [
    "\"\"\" 4. extension of python file is .py\"\"\""
   ]
  },
  {
   "cell_type": "code",
   "execution_count": 9,
   "id": "513dee5f-4009-4683-a8ca-82dc067d8168",
   "metadata": {},
   "outputs": [
    {
     "data": {
      "text/plain": [
       "'5. python code is compiled thats why it takes time unlike java which is interpreted'"
      ]
     },
     "execution_count": 9,
     "metadata": {},
     "output_type": "execute_result"
    }
   ],
   "source": [
    "\"\"\"5. python code is compiled thats why it takes time unlike java which is interpreted\"\"\""
   ]
  },
  {
   "cell_type": "code",
   "execution_count": 11,
   "id": "e6a32816-7afc-46b6-a3bb-1ab6e7e1fc94",
   "metadata": {},
   "outputs": [
    {
     "data": {
      "text/plain": [
       "'6. a module, a function body, and a class definition'"
      ]
     },
     "execution_count": 11,
     "metadata": {},
     "output_type": "execute_result"
    }
   ],
   "source": [
    "\"\"\"6. a module, a function body, and a class definition\"\"\""
   ]
  },
  {
   "cell_type": "code",
   "execution_count": 12,
   "id": "663fd47b-21b3-4a0e-adbb-39e3a6dc9cec",
   "metadata": {},
   "outputs": [
    {
     "data": {
      "text/plain": [
       "'7.  # is a character to commentsingle line'"
      ]
     },
     "execution_count": 12,
     "metadata": {},
     "output_type": "execute_result"
    }
   ],
   "source": [
    "\"\"\"7.  # is a character to commentsingle line\"\"\""
   ]
  },
  {
   "cell_type": "code",
   "execution_count": 16,
   "id": "2cb13558-df1f-4d31-a724-bd6271b6ced1",
   "metadata": {},
   "outputs": [
    {
     "data": {
      "text/plain": [
       "'8. go to CMD and then type \"python\" press enter '"
      ]
     },
     "execution_count": 16,
     "metadata": {},
     "output_type": "execute_result"
    }
   ],
   "source": [
    "\"\"\"8. go to CMD and then type \"python\" press enter \"\"\""
   ]
  },
  {
   "cell_type": "code",
   "execution_count": 17,
   "id": "5d688e30-7638-43df-a7c3-fd05d047a286",
   "metadata": {},
   "outputs": [
    {
     "data": {
      "text/plain": [
       "' 9. lambda'"
      ]
     },
     "execution_count": 17,
     "metadata": {},
     "output_type": "execute_result"
    }
   ],
   "source": [
    "\"\"\" 9. lambda\"\"\""
   ]
  },
  {
   "cell_type": "code",
   "execution_count": 18,
   "id": "bb851bfc-a1f7-4125-be5e-3a3c7695e823",
   "metadata": {},
   "outputs": [
    {
     "data": {
      "text/plain": [
       "' 10.Preferred Installer Program'"
      ]
     },
     "execution_count": 18,
     "metadata": {},
     "output_type": "execute_result"
    }
   ],
   "source": [
    "\"\"\" 10.Preferred Installer Program\"\"\""
   ]
  },
  {
   "cell_type": "code",
   "execution_count": 19,
   "id": "75a1afd2-1fe3-47db-b05b-36dc3b9650c1",
   "metadata": {},
   "outputs": [
    {
     "data": {
      "text/plain": [
       "' 11. len(),sorted(),capatalize(),count() etc..'"
      ]
     },
     "execution_count": 19,
     "metadata": {},
     "output_type": "execute_result"
    }
   ],
   "source": [
    "\"\"\" 11. len(),sorted(),capatalize(),count() etc..\"\"\""
   ]
  },
  {
   "cell_type": "code",
   "execution_count": 20,
   "id": "47c94526-b146-44e3-9e4d-66bcecdd51d3",
   "metadata": {},
   "outputs": [
    {
     "data": {
      "text/plain": [
       "' 12. 79  '"
      ]
     },
     "execution_count": 20,
     "metadata": {},
     "output_type": "execute_result"
    }
   ],
   "source": [
    "\"\"\" 12. 79  \"\"\""
   ]
  },
  {
   "cell_type": "code",
   "execution_count": 21,
   "id": "5776ee0d-7c80-450a-b6cb-adff71cd3f38",
   "metadata": {},
   "outputs": [
    {
     "data": {
      "text/plain": [
       "' it is easy ,have multiple libraries '"
      ]
     },
     "execution_count": 21,
     "metadata": {},
     "output_type": "execute_result"
    }
   ],
   "source": [
    "\"\"\" it is easy ,have multiple libraries \"\"\""
   ]
  },
  {
   "cell_type": "code",
   "execution_count": 22,
   "id": "2aa12c42-f920-4e01-8134-b7a75ac77ef9",
   "metadata": {},
   "outputs": [
    {
     "data": {
      "text/plain": [
       "' 14. memeory is managed with the help of private heap'"
      ]
     },
     "execution_count": 22,
     "metadata": {},
     "output_type": "execute_result"
    }
   ],
   "source": [
    "\"\"\" 14. memeory is managed with the help of private heap\"\"\""
   ]
  },
  {
   "cell_type": "code",
   "execution_count": null,
   "id": "ae6c8c7e-f399-49c2-9452-7e062a21c3be",
   "metadata": {},
   "outputs": [],
   "source": [
    "\"\"\" 15. to install first install python from browser and then set the environmenent "
   ]
  }
 ],
 "metadata": {
  "kernelspec": {
   "display_name": "Python 3 (ipykernel)",
   "language": "python",
   "name": "python3"
  },
  "language_info": {
   "codemirror_mode": {
    "name": "ipython",
    "version": 3
   },
   "file_extension": ".py",
   "mimetype": "text/x-python",
   "name": "python",
   "nbconvert_exporter": "python",
   "pygments_lexer": "ipython3",
   "version": "3.10.8"
  }
 },
 "nbformat": 4,
 "nbformat_minor": 5
}
