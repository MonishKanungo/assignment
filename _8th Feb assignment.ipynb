{
 "cells": [
  {
   "cell_type": "code",
   "execution_count": 4,
   "id": "a982d0fa-dc31-4a37-b0e4-906c26141c2b",
   "metadata": {},
   "outputs": [
    {
     "data": {
      "text/plain": [
       "\"Abstraction is a feature of object oriented programming in which user is showed only basic information all other internal implementation of module is hidded from the user\\nFor Example if a man knows how to drive a car but he doesn't know how car engine works basically he doesn'tknow internal working this is known as abstraction\""
      ]
     },
     "execution_count": 4,
     "metadata": {},
     "output_type": "execute_result"
    }
   ],
   "source": [
    "#Q1\n",
    "\"\"\"Abstraction is a feature of object oriented programming in which user is showed only basic information all other internal implementation of module is hidded from the user\n",
    "For Example if a man knows how to drive a car but he doesn't know how car engine works basically he doesn'tknow internal working this is known as abstraction\"\"\""
   ]
  },
  {
   "cell_type": "code",
   "execution_count": 11,
   "id": "24a0ae79-fd85-4eb4-8ba1-0aa167532795",
   "metadata": {},
   "outputs": [],
   "source": [
    "from abc import ABC, abstractmethod\n",
    "\n",
    "class Parent (ABC):\n",
    "    @abstractmethod\n",
    "    def fun1(self):\n",
    "        pass\n",
    "    \n",
    "    def fun2(self):\n",
    "        print(\"this is Parent class\")\n",
    "class Child(Parent):\n",
    "    def fun1(self):\n",
    "        print(\"This is Child class\")\n",
    "        \n",
    "    \n",
    "\n"
   ]
  },
  {
   "cell_type": "code",
   "execution_count": 12,
   "id": "54f0aaaa-c3cf-4ff9-ad44-ebfc02065c6a",
   "metadata": {},
   "outputs": [],
   "source": [
    "obj=Child()"
   ]
  },
  {
   "cell_type": "code",
   "execution_count": 13,
   "id": "40f20c90-f8d3-4acd-a249-4d225a40ff9d",
   "metadata": {},
   "outputs": [
    {
     "name": "stdout",
     "output_type": "stream",
     "text": [
      "This is Child class\n",
      "this is Parent class\n"
     ]
    }
   ],
   "source": [
    "obj.fun1()\n",
    "obj.fun2()"
   ]
  },
  {
   "cell_type": "code",
   "execution_count": 1,
   "id": "b0bc4acc-809d-4aeb-a753-95b540210cad",
   "metadata": {},
   "outputs": [
    {
     "data": {
      "text/plain": [
       "'Encapsulation is a special feature in object oriented oriented programming where wrapping of data is achieved In encapsulation, the variables of a class will be hidden from other classes, and can be accessed only through the methods of their current class'"
      ]
     },
     "execution_count": 1,
     "metadata": {},
     "output_type": "execute_result"
    }
   ],
   "source": [
    "#Q2\n",
    "\"\"\"Encapsulation is a special feature in object oriented oriented programming where wrapping of data is achieved In encapsulation, the variables of a class will be hidden from other classes, and can be accessed only through the methods of their current class\"\"\""
   ]
  },
  {
   "cell_type": "code",
   "execution_count": 2,
   "id": "e4ccc058-8835-4f47-a068-78d996b8c9d5",
   "metadata": {},
   "outputs": [],
   "source": [
    "class car:\n",
    "    def __init__(self,year,company,model,speed):\n",
    "        self.__year=year \n",
    "        self.__company=company\n",
    "        self.__model=model\n",
    "        self.__speed=0\n",
    "    def set_speed(self,speed):\n",
    "        self.__speed=0 if speed<0 else speed\n",
    "    def get_speed(self):\n",
    "        return self.__speed\n",
    "c=car(2022,\"maruti\",\"brezza\",23)\n",
    "\n"
   ]
  },
  {
   "cell_type": "code",
   "execution_count": 4,
   "id": "24cbc788-370a-456e-baee-8f7b343707b5",
   "metadata": {},
   "outputs": [],
   "source": [
    "c.set_speed(40)"
   ]
  },
  {
   "cell_type": "code",
   "execution_count": 5,
   "id": "ec084192-2138-4ed5-a7f7-81cf99abd263",
   "metadata": {},
   "outputs": [
    {
     "data": {
      "text/plain": [
       "40"
      ]
     },
     "execution_count": 5,
     "metadata": {},
     "output_type": "execute_result"
    }
   ],
   "source": [
    "c.get_speed()"
   ]
  },
  {
   "cell_type": "code",
   "execution_count": 9,
   "id": "641d1d21-da58-43c8-857f-ff76619e5fbd",
   "metadata": {},
   "outputs": [
    {
     "data": {
      "text/plain": [
       "' main difference is  that abstraction is hiding the details and implementation of the code. Encapsulation is hiding the data and controlling the visibility of the code'"
      ]
     },
     "execution_count": 9,
     "metadata": {},
     "output_type": "execute_result"
    }
   ],
   "source": [
    "\"\"\" main difference is  that abstraction is hiding the details and implementation of the code. Encapsulation is hiding the data and controlling the visibility of the code\"\"\""
   ]
  },
  {
   "cell_type": "code",
   "execution_count": 11,
   "id": "ae67b5bc-a02e-454f-8e57-9db74fac8128",
   "metadata": {},
   "outputs": [
    {
     "data": {
      "text/plain": [
       "'abc moduke stands for Abstract base class . it helps to provide a way to define interfaces that enforce certain methods or attributes to be implemented in the derived classes\\nThe abc module is used to create abstract classes that define the behavior of a class without implementing it. '"
      ]
     },
     "execution_count": 11,
     "metadata": {},
     "output_type": "execute_result"
    }
   ],
   "source": [
    "#Q3\n",
    "\"\"\"abc moduke stands for Abstract base class . it helps to provide a way to define interfaces that enforce certain methods or attributes to be implemented in the derived classes\n",
    "The abc module is used to create abstract classes that define the behavior of a class without implementing it. \"\"\""
   ]
  },
  {
   "cell_type": "code",
   "execution_count": 12,
   "id": "34e5ef0c-ed01-4f95-b87d-01f20fcfa464",
   "metadata": {},
   "outputs": [
    {
     "data": {
      "text/plain": [
       "'We can achieve Data abstraction by using interfaces(making blueprint for a class so class must be implemented), using abstract class ,using encapsulation'"
      ]
     },
     "execution_count": 12,
     "metadata": {},
     "output_type": "execute_result"
    }
   ],
   "source": [
    "#Q4\n",
    "\"\"\"We can achieve Data abstraction by using interfaces(making blueprint for a class so class must be implemented), using abstract class ,using encapsulation\"\"\" "
   ]
  },
  {
   "cell_type": "code",
   "execution_count": 13,
   "id": "86586b17-6422-405f-9290-e27677e97877",
   "metadata": {},
   "outputs": [
    {
     "data": {
      "text/plain": [
       "'no we cannot create instance of abstract class as because as abstract class contains abstract methods which is implemented for subclass is we try to make instance of abstract it will show error '"
      ]
     },
     "execution_count": 13,
     "metadata": {},
     "output_type": "execute_result"
    }
   ],
   "source": [
    "#Q5\n",
    "\"\"\"no we cannot create instance of abstract class as because as abstract class contains abstract methods which is implemented for subclass is we try to make instance of abstract it will show error \"\"\""
   ]
  },
  {
   "cell_type": "code",
   "execution_count": 23,
   "id": "ec91258a-aef5-4508-97ef-703431cfeb1e",
   "metadata": {},
   "outputs": [],
   "source": [
    "from abc import ABC, abstractmethod\n",
    "class Car(ABC):\n",
    "    \n",
    "    @abstractmethod\n",
    "        \n",
    "    def type(self):\n",
    "        pass\n",
    "class Tata_Safari(Car):\n",
    "    def type(self):\n",
    "        return\"XUV\"\n",
    "class Audi_A6(Car):\n",
    "    def type(self):\n",
    "        return \"Sedan\"\n",
    "\n",
    "        "
   ]
  },
  {
   "cell_type": "code",
   "execution_count": 24,
   "id": "80e1f7b6-428e-44c7-b826-778a6076b7a8",
   "metadata": {},
   "outputs": [
    {
     "ename": "TypeError",
     "evalue": "Can't instantiate abstract class Car with abstract method type",
     "output_type": "error",
     "traceback": [
      "\u001b[0;31m---------------------------------------------------------------------------\u001b[0m",
      "\u001b[0;31mTypeError\u001b[0m                                 Traceback (most recent call last)",
      "Cell \u001b[0;32mIn[24], line 1\u001b[0m\n\u001b[0;32m----> 1\u001b[0m obj\u001b[38;5;241m=\u001b[39m\u001b[43mCar\u001b[49m\u001b[43m(\u001b[49m\u001b[43m)\u001b[49m\n\u001b[1;32m      2\u001b[0m obj1\u001b[38;5;241m=\u001b[39mTata_Safari()\n\u001b[1;32m      3\u001b[0m \u001b[38;5;28mprint\u001b[39m(obj1\u001b[38;5;241m.\u001b[39mtype())\n",
      "\u001b[0;31mTypeError\u001b[0m: Can't instantiate abstract class Car with abstract method type"
     ]
    }
   ],
   "source": [
    "obj=Car()\n",
    "obj1=Tata_Safari()\n",
    "print(obj1.type())\n"
   ]
  },
  {
   "cell_type": "code",
   "execution_count": null,
   "id": "2300fbfc-df66-48a2-8168-093a7e4c1310",
   "metadata": {},
   "outputs": [],
   "source": []
  }
 ],
 "metadata": {
  "kernelspec": {
   "display_name": "Python 3 (ipykernel)",
   "language": "python",
   "name": "python3"
  },
  "language_info": {
   "codemirror_mode": {
    "name": "ipython",
    "version": 3
   },
   "file_extension": ".py",
   "mimetype": "text/x-python",
   "name": "python",
   "nbconvert_exporter": "python",
   "pygments_lexer": "ipython3",
   "version": "3.10.8"
  }
 },
 "nbformat": 4,
 "nbformat_minor": 5
}
