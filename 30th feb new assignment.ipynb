{
 "cells": [
  {
   "cell_type": "code",
   "execution_count": 1,
   "id": "f0640cc2-c002-4b0b-bee4-ee69ce8b510b",
   "metadata": {},
   "outputs": [
    {
     "name": "stdin",
     "output_type": "stream",
     "text": [
      "Enter Your marks 50\n"
     ]
    },
    {
     "name": "stdout",
     "output_type": "stream",
     "text": [
      "Your grade is D\n"
     ]
    }
   ],
   "source": [
    "marks =eval(input(\"Enter Your marks\"))\n",
    "if marks>90 :\n",
    "    print(\" your Grade is A\")\n",
    "elif marks >80 and marks <=90:\n",
    "    print(\"Your grade is B\")\n",
    "elif marks >=60 and marks<=80 :\n",
    "    print(\"Your grade is C\")\n",
    "else:\n",
    "    print(\"Your grade is D\")\n"
   ]
  },
  {
   "cell_type": "code",
   "execution_count": 2,
   "id": "a3157e41-96a0-4dde-8354-74bc2c65e989",
   "metadata": {},
   "outputs": [
    {
     "name": "stdin",
     "output_type": "stream",
     "text": [
      "Enter price of bike 52000\n"
     ]
    },
    {
     "name": "stdout",
     "output_type": "stream",
     "text": [
      "You have to pay 10% tax\n",
      "Your net price after adding tax 57200.0\n"
     ]
    }
   ],
   "source": [
    "price =eval(input(\"Enter price of bike\"))\n",
    "if price>100000:\n",
    "    print(\" You have to pay 15% tax\")\n",
    "    sum=(price*15)/100+price\n",
    "    print(\"Your net price after adding tax\",sum) \n",
    "elif price >50000 and price<=100000:\n",
    "    print(\"You have to pay 10% tax\")\n",
    "    sum=(price*10)/100+price\n",
    "    print(\"Your net price after adding tax\",sum) \n",
    "else:\n",
    "    print(\"You have to pay 5% tax\")\n",
    "    sum=(price*5)/100+price\n",
    "    print(\"Your net price after adding tax\",sum) \n"
   ]
  },
  {
   "cell_type": "code",
   "execution_count": null,
   "id": "0927f5bd-aa2d-4b7f-b3d8-856bc50defe4",
   "metadata": {},
   "outputs": [],
   "source": [
    " city=input(\"Enter Your city name\")\n",
    "if city.lower()==\"delhi\":\n",
    "    print(\"Red fort\")\n",
    "elif city.lower()==\"agra\":\n",
    "    print(\"Taj mahal\")\n",
    "elif city.lower()==\"jaipur\":\n",
    "    print(\"jal mahal\")\n",
    "else:\n",
    "    print(\"invalid input\")\n",
    "  \n"
   ]
  },
  {
   "cell_type": "code",
   "execution_count": null,
   "id": "73389de2-644d-4fb8-a231-124f381df12c",
   "metadata": {},
   "outputs": [],
   "source": [
    " num=int(input(\"Enter number\"))\n",
    "count=0\n",
    "while num>=10:\n",
    "    num=num/3\n",
    "    count=count+1\n",
    "\n",
    "    \n",
    "print(\"Given number is divided by 3 in \",count )\n"
   ]
  },
  {
   "cell_type": "code",
   "execution_count": null,
   "id": "c022d635-2bcc-48af-ad55-cc7b2789238b",
   "metadata": {},
   "outputs": [],
   "source": [
    "\"\"\"We use while loop  when we have to execute a block of code multiple times until it returns false \n",
    "When you want to repeat an action a certain number of times or until a certain condition is met:\n",
    "For example, you might want to ask the user for input until they enter a valid value. In this case, you can use a while loop to keep asking for input until the user enters a valid value\n",
    "When you want to iterate over a sequence of items until a certain condition is met:  For example, you might want to process each item in a list until you reach a certain value. In this case, you can use a while loop to iterate over the list until you reach the desired value.  When you want to continuously perform a task based on a certain condition: \n",
    "For example, you might want to continuously check for new messages in a chat application until the user logs out. In this case, you can use a while loop to keep checking for new messages as long as the user is logged in\n",
    "\n"
   ]
  },
  {
   "cell_type": "code",
   "execution_count": null,
   "id": "0e81122f-2da0-4d4b-a4bd-b070f7eac413",
   "metadata": {},
   "outputs": [],
   "source": [
    " row = 1 \n",
    "while row <= 5:\n",
    "      col = 1    \n",
    "             while col <= row:        \n",
    "                     print(\"*\", end=\"\")         \n",
    "                     col += 1   \n",
    "                     print(\"\")   \n",
    "                     row += 1\n"
   ]
  },
  {
   "cell_type": "code",
   "execution_count": 6,
   "id": "e7b6c89d-a5b3-4e1e-8e19-a6f4f74f0368",
   "metadata": {},
   "outputs": [
    {
     "name": "stdin",
     "output_type": "stream",
     "text": [
      "Enter Numbers of row 5\n"
     ]
    },
    {
     "name": "stdout",
     "output_type": "stream",
     "text": [
      "* \n",
      "* * \n",
      "* * * \n",
      "* * * * \n",
      "* * * * * \n"
     ]
    }
   ],
   "source": [
    "num=int(input(\"Enter Numbers of row\"))\n",
    "row=0\n",
    "while row<num:\n",
    "    star=row+1\n",
    "    while star>0:\n",
    "        print(\"*\",end=\" \")\n",
    "        star=star-1\n",
    "    row=row+1\n",
    "    print()"
   ]
  },
  {
   "cell_type": "code",
   "execution_count": 5,
   "id": "5ae70107-e055-4eac-a268-d1fe99d770ea",
   "metadata": {},
   "outputs": [
    {
     "name": "stdin",
     "output_type": "stream",
     "text": [
      "Enter Numbers of row 4\n"
     ]
    },
    {
     "name": "stdout",
     "output_type": "stream",
     "text": [
      "   * \n",
      "  * * \n",
      " * * * \n",
      "* * * * \n"
     ]
    }
   ],
   "source": [
    "num=int(input(\"Enter Numbers of row\"))\n",
    "row=0\n",
    "while row<num:\n",
    "    space=num-row-1\n",
    "    while space>0:\n",
    "        print(end=\" \")\n",
    "        space= space-1\n",
    "    star=row+1\n",
    "    while star>0:\n",
    "        print(\"*\",end=\" \")\n",
    "        star=star-1\n",
    "    row=row+1\n",
    "    print()"
   ]
  },
  {
   "cell_type": "code",
   "execution_count": 1,
   "id": "3ace79d3-8203-4836-a317-301d13f73bbb",
   "metadata": {},
   "outputs": [
    {
     "name": "stdout",
     "output_type": "stream",
     "text": [
      "10\n",
      "9\n",
      "8\n",
      "7\n",
      "6\n",
      "5\n",
      "4\n",
      "3\n",
      "2\n",
      "1\n"
     ]
    }
   ],
   "source": [
    "num = 10\n",
    "while num >= 1:\n",
    "    print(num)\n",
    "    num =num- 1\n"
   ]
  },
  {
   "cell_type": "code",
   "execution_count": null,
   "id": "4c0a7d50-66ca-4cdd-b80d-d421e569e8f9",
   "metadata": {},
   "outputs": [],
   "source": [
    "num = 10\n",
    "while num >= 1:\n",
    "    print(num)\n",
    "    num =num- 1"
   ]
  }
 ],
 "metadata": {
  "kernelspec": {
   "display_name": "Python 3 (ipykernel)",
   "language": "python",
   "name": "python3"
  },
  "language_info": {
   "codemirror_mode": {
    "name": "ipython",
    "version": 3
   },
   "file_extension": ".py",
   "mimetype": "text/x-python",
   "name": "python",
   "nbconvert_exporter": "python",
   "pygments_lexer": "ipython3",
   "version": "3.10.8"
  }
 },
 "nbformat": 4,
 "nbformat_minor": 5
}
