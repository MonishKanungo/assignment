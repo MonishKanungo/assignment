{
 "cells": [
  {
   "cell_type": "markdown",
   "id": "c8f2fe47-9f55-4a41-9cd4-3d381671e892",
   "metadata": {},
   "source": [
    "#Q1. Explain GET and POST methods."
   ]
  },
  {
   "cell_type": "markdown",
   "id": "8112bbd7-9835-499c-9b74-45dd76bcc70b",
   "metadata": {},
   "source": [
    "GET and POST are two of the most common HTTP methods used to send data to a web server. GET is used to retrieve data from a server, while POST is used to send data to a server for processing.\n",
    "GET sends the data through Url and POST sends the data through body"
   ]
  },
  {
   "cell_type": "markdown",
   "id": "189a9c4f-b56b-43a7-bd9e-668a6ac025de",
   "metadata": {},
   "source": [
    "#Q2. Why is request used in Flask?"
   ]
  },
  {
   "cell_type": "markdown",
   "id": "64127f57-a782-426e-b003-bc47e6be6c5e",
   "metadata": {},
   "source": [
    "The request object is used in Flask to access the data that is sent by the client to the server."
   ]
  },
  {
   "cell_type": "markdown",
   "id": "b46249f1-d4f2-4739-ba17-43196d511030",
   "metadata": {},
   "source": [
    "#Q3. Why is redirect() used in Flask?"
   ]
  },
  {
   "cell_type": "markdown",
   "id": "e4e9db27-9c61-4e84-a04f-c25c5ec2e77c",
   "metadata": {},
   "source": [
    "The redirect() function in Flask is used to redirect the user to another URL.The redirect() function takes two arguments: the URL that the user should be redirected to, and the HTTP status code that should be used for the redirect."
   ]
  },
  {
   "cell_type": "markdown",
   "id": "4591e199-57c2-41cc-afc5-658c0d931cff",
   "metadata": {},
   "source": [
    "#Q4. What are templates in Flask? Why is the render_template() function used?"
   ]
  },
  {
   "cell_type": "markdown",
   "id": "94adda36-fcab-43dd-b11b-95f8da5e4ebb",
   "metadata": {},
   "source": [
    "Templates in Flask are HTML files that are used to render dynamic web pages. They are written using the Jinja2 template language, which allows you to insert dynamic data into the HTML code.\n",
    "\n",
    "The render_template() function is used to render a template file. It takes two arguments: the name of the template file to be rendered, and a dictionary of variables that will be available to the template."
   ]
  },
  {
   "cell_type": "markdown",
   "id": "9d06315b-fb5f-46f1-a3a4-2278e23bb24f",
   "metadata": {},
   "source": [
    "#Q5. Create a simple API. Use Postman to test it. Attach the screenshot of the output in the Jupyter Notebook."
   ]
  },
  {
   "cell_type": "markdown",
   "id": "e99498ad-9f2b-4b61-b0bf-03a7df5d2fab",
   "metadata": {},
   "source": []
  }
 ],
 "metadata": {
  "kernelspec": {
   "display_name": "Python 3 (ipykernel)",
   "language": "python",
   "name": "python3"
  },
  "language_info": {
   "codemirror_mode": {
    "name": "ipython",
    "version": 3
   },
   "file_extension": ".py",
   "mimetype": "text/x-python",
   "name": "python",
   "nbconvert_exporter": "python",
   "pygments_lexer": "ipython3",
   "version": "3.10.8"
  }
 },
 "nbformat": 4,
 "nbformat_minor": 5
}
