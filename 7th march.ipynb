{
 "cells": [
  {
   "cell_type": "markdown",
   "id": "c367d1f2-9144-4564-9928-fb40ac590678",
   "metadata": {},
   "source": [
    "Q1. What are the three measures of central tendency?"
   ]
  },
  {
   "cell_type": "markdown",
   "id": "2f9b9ebf-31c3-4b11-ad3d-87c4ddf2de53",
   "metadata": {},
   "source": [
    "The three measures of central tendency are the mean, median, and mode.\n",
    "\n",
    "1) Mean is the average of all the values in a dataset. It is calculated by adding up all the values and dividing by the number of values.\n",
    "2) Median is the middle value in a dataset when it is ordered from least to greatest.\n",
    "3) Mode is the most frequent value in a dataset."
   ]
  },
  {
   "cell_type": "markdown",
   "id": "afa3fa21-9175-465b-b4f9-b23a50eb2933",
   "metadata": {},
   "source": [
    "Q2. What is the difference between the mean, median, and mode? How are they used to measure the\n",
    "central tendency of a dataset?"
   ]
  },
  {
   "cell_type": "markdown",
   "id": "b9ab0a9d-e698-4ff0-87e5-38a496a6473a",
   "metadata": {},
   "source": [
    "1) Mean (average): The mean is the sum of all the values in a dataset divided by the number of values. It is the most commonly used measure of central tendency.\n",
    "2) Median: The median is the middle value in a dataset when it is ordered from least to greatest. If a dataset has an even number of values, the median is the average of the two middle values. The median is not affected by outliers in a dataset, so it is a more robust measure of central tendency than the mean.\n",
    "3) Mode: The mode is the most frequent value in a dataset. It is not as commonly used as the mean or median, but it can be useful for describing categorical data.\n",
    "\n",
    "\n",
    "The mean, median, and mode can all be used to measure the central tendency of a dataset. However, they each have different strengths and weaknesses. The mean is the most commonly used measure of central tendency, but it can be misleading if the dataset is skewed. The median is not affected by outliers, so it is a more robust measure of central tendency. The mode is not as commonly used as the mean or median, but it can be useful for describing categorical data."
   ]
  },
  {
   "cell_type": "markdown",
   "id": "f1c571ef-b0aa-458d-8092-2a2d4c368ae5",
   "metadata": {},
   "source": [
    "Q3. Measure the three measures of central tendency for the given height data:\n",
    "[178,177,176,177,178.2,178,175,179,180,175,178.9,176.2,177,172.5,178,176.5]"
   ]
  },
  {
   "cell_type": "code",
   "execution_count": 2,
   "id": "d605462a-c0a5-492b-a880-268ab188f787",
   "metadata": {},
   "outputs": [
    {
     "name": "stdout",
     "output_type": "stream",
     "text": [
      "Mean: 177.01875\n",
      "Median: 177.0\n",
      "Mode: 178\n"
     ]
    }
   ],
   "source": [
    "import pandas as pd\n",
    "import numpy as np\n",
    "height_data = [178,177,176,177,178.2,178,175,179,180,175,178.9,176.2,177,172.5,178,176.5]\n",
    "mean = np.mean(height_data)\n",
    "median = np.median(height_data)\n",
    "mode = np.argmax(np.bincount(height_data))\n",
    "print(\"Mean:\", mean)\n",
    "print(\"Median:\", median)\n",
    "print(\"Mode:\", mode)\n"
   ]
  },
  {
   "cell_type": "markdown",
   "id": "83d1ac49-5c0b-4718-9096-5b6e2355a220",
   "metadata": {},
   "source": [
    "Q4. Find the standard deviation for the given data:\n",
    "[178,177,176,177,178.2,178,175,179,180,175,178.9,176.2,177,172.5,178,176.5]"
   ]
  },
  {
   "cell_type": "code",
   "execution_count": 3,
   "id": "fba504d8-445d-4cc6-98aa-29dcb973a26d",
   "metadata": {},
   "outputs": [
    {
     "name": "stdout",
     "output_type": "stream",
     "text": [
      "The standard deviation is 1.7885814036548633\n"
     ]
    }
   ],
   "source": [
    "import pandas as pd\n",
    "import numpy as np\n",
    "heights = [178, 177, 176, 177, 178.2, 178, 175, 179, 180, 175, 178.9, 176.2, 177, 172.5, 178, 176.5]\n",
    "mean = np.mean(heights)\n",
    "squared_deviations = []\n",
    "for height in heights:\n",
    "    squared_deviation = (height - mean)**2\n",
    "    squared_deviations.append(squared_deviation)\n",
    "variance = np.mean(squared_deviations)\n",
    "\n",
    "standard_deviation = np.sqrt(variance)\n",
    "\n",
    "print(\"The standard deviation is\", standard_deviation)\n"
   ]
  },
  {
   "cell_type": "markdown",
   "id": "7bf33c78-6169-41ec-b5aa-d021581a4de8",
   "metadata": {},
   "source": [
    "Q5. How are measures of dispersion such as range, variance, and standard deviation used to describe\n",
    "the spread of a dataset? Provide an example."
   ]
  },
  {
   "cell_type": "markdown",
   "id": "40fc3fda-ae73-4e57-8bcd-89f76b2ea1f5",
   "metadata": {},
   "source": [
    "1) Range is the difference between the largest and smallest values in a dataset. It is the simplest measure of dispersion, but it can be misleading if the dataset has outliers.\n",
    "2) Variance is a measure of how spread out the data is around the mean. It is calculated by averaging the squared deviations from the mean.\n",
    "3) Standard deviation is the square root of the variance. It is a more intuitive measure of dispersion than the variance "
   ]
  },
  {
   "cell_type": "code",
   "execution_count": 4,
   "id": "3c69b041-62c4-4a34-8437-c182821b80da",
   "metadata": {},
   "outputs": [
    {
     "name": "stdout",
     "output_type": "stream",
     "text": [
      "The range of the tip amount is 9.0\n",
      "The variance of the tip amount is 1.9144546380624725\n",
      "The standard deviation of the tip amount is 1.3836381890011826\n"
     ]
    }
   ],
   "source": [
    "import seaborn as sns\n",
    "import pandas as pd\n",
    "import numpy as np\n",
    "tips = sns.load_dataset(\"tips\")\n",
    "range = tips.tip.max() - tips.tip.min()\n",
    "variance = tips.tip.var()\n",
    "standard_deviation = tips.tip.std()\n",
    "print(\"The range of the tip amount is\", range)\n",
    "print(\"The variance of the tip amount is\", variance)\n",
    "print(\"The standard deviation of the tip amount is\", standard_deviation)\n"
   ]
  },
  {
   "cell_type": "markdown",
   "id": "2508040e-9bb0-4f2f-83ea-e6370118e24d",
   "metadata": {},
   "source": [
    "Q6. What is a Venn diagram?"
   ]
  },
  {
   "cell_type": "markdown",
   "id": "30e881ec-2fc2-473a-8b38-fd6092f207c2",
   "metadata": {},
   "source": [
    "A Venn diagram is made up of circles that represent sets. The overlapping parts of the circles represent the parts of the sets that are shared. The non-overlapping parts of the circles represent the parts of the sets that are not shared.\n",
    "\n",
    "Venn diagrams can be used to represent a variety of relationships between sets. For example, they can be used to represent the intersection of sets, the union of sets, and the difference of sets."
   ]
  },
  {
   "cell_type": "markdown",
   "id": "b02eb324-1217-4681-b532-3642bdca4d21",
   "metadata": {},
   "source": [
    "Q7. For the two given sets A = (2,3,4,5,6,7) & B = (0,2,6,8,10). Find:\n",
    "(i) A  ∩ B\n",
    "(ii) A ⋃ B"
   ]
  },
  {
   "cell_type": "markdown",
   "id": "dc977b3e-94e4-475c-8f17-355537b58365",
   "metadata": {},
   "source": [
    "A ∩ B = {2, 6}\n",
    "\n",
    "\n",
    "A U B ={0,2,3,4,5,6,7,8,10"
   ]
  },
  {
   "cell_type": "markdown",
   "id": "328dfb91-cfe2-41d8-ae9a-1cbf432973b4",
   "metadata": {},
   "source": [
    "Q8. What do you understand about skewness in data?"
   ]
  },
  {
   "cell_type": "markdown",
   "id": "da13a1a4-060d-4142-9fbe-4b68704f158b",
   "metadata": {},
   "source": [
    "Skewness is a measure of the asymmetry of a distribution. A distribution is said to be skewed if it is not symmetrical around its mean.\n",
    "There are two types of skewness:\n",
    "\n",
    "1) Positive skewness occurs when the tail of the distribution is longer on the right side of the mean. This means that there are more data points on the right side of the mean than on the left side.\n",
    "2) Negative skewness occurs when the tail of the distribution is longer on the left side of the mean. This means that there are more data points on the left side of the mean than on the right side."
   ]
  },
  {
   "cell_type": "markdown",
   "id": "ea6a7f5d-2ae1-4290-a119-6496e4186fd3",
   "metadata": {},
   "source": [
    "Q9. If a data is right skewed then what will be the position of median with respect to mean?"
   ]
  },
  {
   "cell_type": "markdown",
   "id": "f107eaa2-2dbc-4537-b2e6-a370110835e3",
   "metadata": {},
   "source": [
    "In a right-skewed distribution, the mean is greater than the median. This is because the tail of the distribution is longer on the right side, meaning that there are more values that are greater than the mean. As a result, the median is pulled to the left, closer to the mean.\n",
    "\n",
    "mean >median >mode"
   ]
  },
  {
   "cell_type": "markdown",
   "id": "5057c214-5b77-46e7-a2be-dc1887265ba6",
   "metadata": {},
   "source": [
    "Q10. Explain the difference between covariance and correlation. How are these measures used in statistical analysis?"
   ]
  },
  {
   "cell_type": "markdown",
   "id": "56d84efb-e31d-4c1d-b538-5cae1ca6c4e2",
   "metadata": {},
   "source": [
    "1) Covariance is a measure of how two variables change together. It is calculated by taking the average of the products of the deviations from the mean for each variable.\n",
    "2) Correlation is a measure of how strongly two variables are related. It is calculated by dividing the covariance by the product of the standard deviations of the two variables.\n",
    "\n",
    "Covariance and correlation are both used in statistical analysis to measure the relationship between two variables. Covariance is more sensitive to outliers than correlation, so it is not as commonly used. Correlation is a more robust measure of the relationship between two variables, so it is more commonly used"
   ]
  },
  {
   "cell_type": "markdown",
   "id": "f40d2050-f2b1-45e7-8947-98f1804b0005",
   "metadata": {},
   "source": [
    "Q11. What is the formula for calculating the sample mean? Provide an example calculation for a\n",
    "dataset."
   ]
  },
  {
   "cell_type": "markdown",
   "id": "e93b5d43-0ba1-4dee-878b-992e05c30c4a",
   "metadata": {},
   "source": [
    "Sample mean = (sum of all values in the sample) / (number of values in the sample"
   ]
  },
  {
   "cell_type": "code",
   "execution_count": 7,
   "id": "44285aba-d25b-4875-ac8c-4b3baa1c756f",
   "metadata": {},
   "outputs": [
    {
     "name": "stdout",
     "output_type": "stream",
     "text": [
      "The sample mean of the tip amount is 2.99827868852459\n"
     ]
    }
   ],
   "source": [
    "import seaborn as sns\n",
    "import pandas as pd\n",
    "import numpy as np\n",
    "\n",
    "tips = sns.load_dataset(\"tips\")\n",
    "\n",
    "mean = tips.tip.mean()\n",
    "\n",
    "print(\"The sample mean of the tip amount is\", mean)\n"
   ]
  },
  {
   "cell_type": "markdown",
   "id": "32231d56-be56-4729-8e2f-cef14164c18c",
   "metadata": {},
   "source": [
    "Q12. For a normal distribution data what is the relationship between its measure of central tendency?"
   ]
  },
  {
   "cell_type": "markdown",
   "id": "bb029556-63a0-47eb-9f9e-f407a78add04",
   "metadata": {},
   "source": [
    "1) Mean (average): The mean is the most important measure of central tendency in a normal distribution. It is the value that is closest to the majority of the data points.\n",
    "2) Median: The median is the middle value in a normal distribution when the data is ordered from least to greatest. If a normal distribution has an even number of data points, the median is the average of the two middle data points.\n",
    "3) Mode: The mode is the most frequent value in a normal distribution.\n",
    "\n",
    "\n",
    "In a normal distribution, the mean, median, and mode are all equal. This is because the data in a normal distribution is evenly distributed around the mean."
   ]
  },
  {
   "cell_type": "markdown",
   "id": "c2d3dc76-6dd0-48be-88a2-35293a1cd338",
   "metadata": {},
   "source": [
    "Q13. How is covariance different from correlation?"
   ]
  },
  {
   "cell_type": "markdown",
   "id": "46c404c0-1d5e-4129-b1f5-30060b9661be",
   "metadata": {},
   "source": [
    "Covariance measures the average of the product of the deviations from the mean for two variables. A positive covariance means that the variables tend to move in the same direction, while a negative covariance means that the variables tend to move in opposite directions.\n",
    "\n",
    "Correlation measures the strength and direction of the linear relationship between two variables. A correlation of 1 means that there is a perfect positive linear relationship between the variables, a correlation of -1 means that there is a perfect negative linear relationship between the variables, and a correlation of 0 means that there is no linear relationship between the variable"
   ]
  },
  {
   "cell_type": "markdown",
   "id": "2b0d5966-a385-4d52-94a6-9440ab6b069f",
   "metadata": {},
   "source": [
    "Q14. How do outliers affect measures of central tendency and dispersion? Provide an example."
   ]
  },
  {
   "cell_type": "markdown",
   "id": "d3c11263-631e-460f-801a-33abc11a5153",
   "metadata": {},
   "source": [
    "Measures of central tendency are affected by outliers because they are calculated based on the values in the dataset. If there are outliers in the dataset, these values can have a significant impact on the mean, median, and mode.\n",
    "\n",
    "Measures of dispersion are also affected by outliers because outliers can skew the distribution of the data. For example, if there is a large outlier in a dataset, the standard deviation may be much larger than it would be if the outlier was not present.\n",
    "\n",
    "we have a dataset with the following values:\n",
    "2, 3, 4, 5, 6, 7, 100"
   ]
  },
  {
   "cell_type": "code",
   "execution_count": null,
   "id": "96f3582e-9ba5-4503-82a3-5696e99a8dfd",
   "metadata": {},
   "outputs": [],
   "source": []
  }
 ],
 "metadata": {
  "kernelspec": {
   "display_name": "Python 3 (ipykernel)",
   "language": "python",
   "name": "python3"
  },
  "language_info": {
   "codemirror_mode": {
    "name": "ipython",
    "version": 3
   },
   "file_extension": ".py",
   "mimetype": "text/x-python",
   "name": "python",
   "nbconvert_exporter": "python",
   "pygments_lexer": "ipython3",
   "version": "3.10.8"
  }
 },
 "nbformat": 4,
 "nbformat_minor": 5
}
