{
 "cells": [
  {
   "cell_type": "markdown",
   "id": "a918ce29-e19c-486a-a973-690e2bdd298b",
   "metadata": {},
   "source": [
    "Q1. Create a Pandas Series that contains the following data: 4, 8, 15, 16, 23, and 42. Then, print the series."
   ]
  },
  {
   "cell_type": "code",
   "execution_count": 4,
   "id": "aa12d4fe-84ad-40e2-a22c-67c48b1fccfc",
   "metadata": {},
   "outputs": [
    {
     "name": "stdout",
     "output_type": "stream",
     "text": [
      "    0\n",
      "0   4\n",
      "1   8\n",
      "2  15\n",
      "3  16\n",
      "4  23\n",
      "5  42\n"
     ]
    }
   ],
   "source": [
    "import pandas as pd \n",
    "data=[4, 8, 15, 16, 23, 42]\n",
    "df=pd.DataFrame(data)\n",
    "print(df)"
   ]
  },
  {
   "cell_type": "markdown",
   "id": "c46c4e9d-7e91-4ad5-8bfc-56cd5346b7cd",
   "metadata": {},
   "source": [
    "Q2. Create a variable of list type containing 10 elements in it, and apply pandas.Series function on the\n",
    "variable print it."
   ]
  },
  {
   "cell_type": "code",
   "execution_count": 5,
   "id": "1ac261b4-838c-486b-aa2f-ab7103b4e722",
   "metadata": {},
   "outputs": [
    {
     "name": "stdout",
     "output_type": "stream",
     "text": [
      "0     1\n",
      "1     2\n",
      "2     3\n",
      "3     4\n",
      "4     5\n",
      "5     6\n",
      "6     7\n",
      "7     8\n",
      "8     9\n",
      "9    10\n",
      "dtype: int64\n"
     ]
    }
   ],
   "source": [
    "import pandas as pd \n",
    "lst=[1,2,3,4,5,6,7,8,9,10]\n",
    "df=pd.Series(lst)\n",
    "print(df)\n"
   ]
  },
  {
   "cell_type": "markdown",
   "id": "7c0a45f0-dc9c-42ec-b24b-fd3ae6496c6a",
   "metadata": {},
   "source": [
    "Q3. Create a Pandas DataFrame that contains the following data:"
   ]
  },
  {
   "cell_type": "code",
   "execution_count": 7,
   "id": "8b9eae87-30c5-4f06-9c8b-bf9ef5442b0c",
   "metadata": {},
   "outputs": [
    {
     "name": "stdout",
     "output_type": "stream",
     "text": [
      "     Name  Age  Gender\n",
      "0   Alice   25  Female\n",
      "1     Bob   30    Male\n",
      "2  clarie   27  Female\n"
     ]
    }
   ],
   "source": [
    "import pandas as pd \n",
    "data={'Name':['Alice','Bob','clarie'],'Age':[25,30,27],'Gender':['Female','Male','Female']}\n",
    "df=pd.DataFrame(data)\n",
    "print(df)"
   ]
  },
  {
   "cell_type": "markdown",
   "id": "a45383c9-cc8a-4537-933f-10949f6c483b",
   "metadata": {},
   "source": [
    "Q4. What is ‘DataFrame’ in pandas and how is it different from pandas.series? Explain with an example."
   ]
  },
  {
   "cell_type": "markdown",
   "id": "af844c19-050a-464e-9948-9bfa4961438b",
   "metadata": {},
   "source": [
    "A DataFrame in Pandas is a two-dimensional, size-mutable, heterogeneous tabular data structure with labeled axes (rows and columns). It is a powerful tool for storing and analyzing data.\n",
    "\n",
    "A Series in Pandas is a one-dimensional array-like object that can hold any data type. It is similar to a NumPy array, but it has an index attached to it. The index can be used to access values in the Series by label, rather than by position."
   ]
  },
  {
   "cell_type": "code",
   "execution_count": 9,
   "id": "b7f48a83-d1c1-4a43-beea-e908cb3bff3f",
   "metadata": {},
   "outputs": [
    {
     "name": "stdout",
     "output_type": "stream",
     "text": [
      "         Name  Age Country\n",
      "0    John Doe   30     USA\n",
      "1    Jane Doe   25  Canada\n",
      "2  John Smith   40      UK\n",
      "0    1\n",
      "1    2\n",
      "2    3\n",
      "3    4\n",
      "4    5\n",
      "dtype: int64\n"
     ]
    }
   ],
   "source": [
    "import pandas as pd\n",
    "df = pd.DataFrame({\n",
    "    \"Name\": [\"John Doe\", \"Jane Doe\", \"John Smith\"],\n",
    "    \"Age\": [30, 25, 40],\n",
    "    \"Country\": [\"USA\", \"Canada\", \"UK\"]\n",
    "})\n",
    "s = pd.Series([1, 2, 3, 4, 5])\n",
    "print(df)\n",
    "print(s)"
   ]
  },
  {
   "cell_type": "markdown",
   "id": "1145a193-153e-422d-a898-d5e439efe8a3",
   "metadata": {},
   "source": [
    "Q5 What are some common functions you can use to manipulate data in a Pandas DataFrame? Can\n",
    "you give an example of when you might use one of these functions?"
   ]
  },
  {
   "cell_type": "markdown",
   "id": "eee71059-ce74-4e84-ae30-1fe63fde2545",
   "metadata": {},
   "source": [
    "filter() – This function allows you to filter the rows of a DataFrame based on a certain condition. For example, you could use the filter() function to filter out all rows where the Age column is greater than 30.\n",
    "sort_values() – This function allows you to sort the rows of a DataFrame by a certain column. For example, you could use the sort_values() function to sort the rows of a DataFrame by the Age column in ascending order.\n",
    "drop() – This function allows you to drop rows or columns from a DataFrame. For example, you could use the drop() function to drop the Country column from a DataFrame.\n",
    "replace() – This function allows you to replace values in a DataFrame. For example, you could use the replace() function to replace all occurrences of the value \"USA\" in the Country column with the value \"United States\".\n",
    "apply() – This function allows you to apply a function to each row or column of a DataFrame. For example, you could use the apply() function to calculate the average age of all rows in a DataFrame."
   ]
  },
  {
   "cell_type": "markdown",
   "id": "057986d0-e947-4126-9f65-397b669d7b9d",
   "metadata": {},
   "source": [
    "Q6. Which of the following is mutable in nature Series, DataFrame, Panel?"
   ]
  },
  {
   "cell_type": "markdown",
   "id": "d17ea34f-7216-4856-959c-323812d55356",
   "metadata": {},
   "source": [
    "Both Series and DataFrame are mutable, which means that their values can be changed. This is in contrast to Panel, which is a three-dimensional data structure that is not mutable."
   ]
  },
  {
   "cell_type": "markdown",
   "id": "da28998f-b00c-4701-8687-0772af9e0077",
   "metadata": {},
   "source": [
    "Q7. Create a DataFrame using multiple Series. Explain with an example."
   ]
  },
  {
   "cell_type": "code",
   "execution_count": null,
   "id": "add2422e-3475-47d7-b2a2-2fab7232733e",
   "metadata": {},
   "outputs": [],
   "source": [
    "import pandas as pd \n",
    "s1=([\"waganor\",\"Alto\",\"safari\"],name=\"Car\")\n",
    "s2=([16,6,32],name=\"price\")\n",
    "s3=([\"CNG\",\"Petrol\",\"Disel\"],name=\"fuel type\")\n",
    "df=pd.Dataframe([s1,s2,s3])\n",
    "print(df)"
   ]
  },
  {
   "cell_type": "code",
   "execution_count": null,
   "id": "f8bb6381-c375-4f0f-bf11-469784e22d96",
   "metadata": {},
   "outputs": [],
   "source": []
  }
 ],
 "metadata": {
  "kernelspec": {
   "display_name": "Python 3 (ipykernel)",
   "language": "python",
   "name": "python3"
  },
  "language_info": {
   "codemirror_mode": {
    "name": "ipython",
    "version": 3
   },
   "file_extension": ".py",
   "mimetype": "text/x-python",
   "name": "python",
   "nbconvert_exporter": "python",
   "pygments_lexer": "ipython3",
   "version": "3.10.8"
  }
 },
 "nbformat": 4,
 "nbformat_minor": 5
}
