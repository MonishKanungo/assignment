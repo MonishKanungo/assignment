{
 "cells": [
  {
   "cell_type": "markdown",
   "id": "a4db09a7-3860-48db-bb8b-938fbdcf54cd",
   "metadata": {},
   "source": [
    "#Q1. What is Web Scraping? Why is it Used? Give three areas where Web Scraping is used to get data."
   ]
  },
  {
   "cell_type": "markdown",
   "id": "341b789c-21be-4934-bf13-c25c3a803f21",
   "metadata": {},
   "source": [
    "\n",
    "Web scraping refers to the automated process of extracting data from websites. It involves using software tools or scripts to gather information from web pages by sending HTTP requests, parsing the HTML or XML content, and extracting the desired data elements. Web scraping allows users to collect and analyze large amounts of data from various sources on the internet.\n",
    "Areas where it is used:\n",
    "1)Price Comparison and Monitoring\n",
    "2)Data Collection and Analysis\n",
    "3)Lead Generation and Sales Intelligence"
   ]
  },
  {
   "cell_type": "markdown",
   "id": "63264fd9-6b87-411e-9c69-0d7189f9f31d",
   "metadata": {
    "tags": []
   },
   "source": [
    "#Q2. What are the different methods used for Web Scraping?"
   ]
  },
  {
   "cell_type": "markdown",
   "id": "6eff16ec-da60-4e0f-85a3-6e9aed23c435",
   "metadata": {},
   "source": [
    "Human copy-and-paste. Text pattern matching. HTTP programming. HTML parsing"
   ]
  },
  {
   "cell_type": "markdown",
   "id": "c14bf06c-688f-4817-9105-c939514d3de2",
   "metadata": {},
   "source": [
    "#Q3. What is Beautiful Soup? Why is it used?"
   ]
  },
  {
   "cell_type": "markdown",
   "id": "bc9bad6a-8707-404e-aa6b-1d6ab40801d2",
   "metadata": {},
   "source": [
    "Beautiful Soup is a Python library commonly used for web scraping and parsing HTML or XML documents. It provides a convenient and intuitive interface for extracting data from web pages by navigating and searching the HTML structure.Beautiful Soup provides simple methods for navigating, searching, and modifying a parse tree in HTML, XML files. It transforms a complex HTML document into a tree of Python objects. It also automatically converts the document to Unicode, so you don't have to think about encodings."
   ]
  },
  {
   "cell_type": "markdown",
   "id": "22846283-6a39-42f9-92b2-19b61bdc27b7",
   "metadata": {},
   "source": [
    "#Q4. Why is flask used in this Web Scraping project?"
   ]
  },
  {
   "cell_type": "markdown",
   "id": "6c586382-5971-42b1-9b7f-d79b9541640c",
   "metadata": {},
   "source": [
    "Flask is a lightweight framework to build websites. We'll use this to parse our collected data and display it as HTML in a new HTML file. The requests module allows us to send http requests to the website we want to scrape. The first line imports the Flask class and the render_template method from the flask library"
   ]
  },
  {
   "cell_type": "code",
   "execution_count": null,
   "id": "c814edec-31f8-416a-b2fa-2ef3a037a61d",
   "metadata": {},
   "outputs": [],
   "source": [
    " AWS Beanstalk"
   ]
  }
 ],
 "metadata": {
  "kernelspec": {
   "display_name": "Python 3 (ipykernel)",
   "language": "python",
   "name": "python3"
  },
  "language_info": {
   "codemirror_mode": {
    "name": "ipython",
    "version": 3
   },
   "file_extension": ".py",
   "mimetype": "text/x-python",
   "name": "python",
   "nbconvert_exporter": "python",
   "pygments_lexer": "ipython3",
   "version": "3.10.8"
  }
 },
 "nbformat": 4,
 "nbformat_minor": 5
}
