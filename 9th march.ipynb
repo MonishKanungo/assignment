{
 "cells": [
  {
   "cell_type": "markdown",
   "id": "642adb5b-e6b8-4903-9651-98b1bc5a756a",
   "metadata": {},
   "source": [
    "Q1: What are the Probability Mass Function (PMF) and Probability Density Function (PDF)? Explain with\n",
    "an example."
   ]
  },
  {
   "cell_type": "markdown",
   "id": "f0ef29d8-21ba-4959-ab40-af078a700d22",
   "metadata": {},
   "source": [
    "The Probability Mass Function (PMF) and the Probability Density Function (PDF) are two different ways of describing the probability distribution of a random variable. The PMF is used for discrete random variables, while the PDF is used for continuous random variables."
   ]
  },
  {
   "cell_type": "markdown",
   "id": "d3475eb8-53a3-4734-8de2-5d7dee59d96d",
   "metadata": {},
   "source": [
    "Q2: What is Cumulative Density Function (CDF)? Explain with an example. Why CDF is used?"
   ]
  },
  {
   "cell_type": "markdown",
   "id": "09af3a04-c9ed-4bab-8336-02e7e35826b1",
   "metadata": {},
   "source": [
    "The cumulative distribution function (CDF) of a random variable X is a function that gives the probability that X will be less than or equal to a certain value. It is defined as:\n",
    "F(x) = P(X <= x)\n",
    "\n",
    "For example, if the CDF of X is 0.5 for a value of x, then the probability that X will be less than or equal to x is 0.5"
   ]
  },
  {
   "cell_type": "markdown",
   "id": "91c831fc-f8d2-46d7-b756-5287406df6cb",
   "metadata": {},
   "source": [
    "Q3: What are some examples of situations where the normal distribution might be used as a model?\n",
    "Explain how the parameters of the normal distribution relate to the shape of the distribution."
   ]
  },
  {
   "cell_type": "markdown",
   "id": "7fe353e3-b3a5-4e02-84c1-f206b3926246",
   "metadata": {},
   "source": [
    "Situations where the normal distribution might be used as a model include:\n",
    "\n",
    "The heights of adult humans\n",
    "\n",
    "The scores on a standardized test\n",
    "\n",
    "The amount of time it takes to complete a task\n",
    "\n",
    "The parameters of the normal distribution are the mean (μ) and the standard deviation (σ). The mean is the center of the distribution, and the standard deviation is a measure of how spread out the distribution is. The shape of the normal distribution is determined by the mean and standard deviation"
   ]
  },
  {
   "cell_type": "markdown",
   "id": "e819f96f-0fa5-4ee8-924b-4c093e46129c",
   "metadata": {},
   "source": [
    "Q4: Explain the importance of Normal Distribution. Give a few real-life examples of Normal\n",
    "Distribution."
   ]
  },
  {
   "cell_type": "markdown",
   "id": "277f085a-4067-48ec-94a1-d84ad8c9efe0",
   "metadata": {},
   "source": [
    "The normal distribution is important because it is a good approximation for many natural phenomena, such as heights, IQ scores, and test scores.\n",
    "\n",
    "Real-life Examples:\n",
    "\n",
    "The heights of adult humans are normally distributed, with most people being of average height and fewer people being very tall or very short.\n",
    "\n",
    "IQ scores are also normally distributed, with most people having average IQ scores and fewer people having very high or very low IQ scores."
   ]
  },
  {
   "cell_type": "markdown",
   "id": "350cf7a7-6949-4ffd-be8b-02b026caa02e",
   "metadata": {},
   "source": [
    "Q5: What is Bernaulli Distribution? Give an Example. What is the difference between Bernoulli\n",
    "Distribution and Binomial Distribution?"
   ]
  },
  {
   "cell_type": "markdown",
   "id": "83a8bc3d-fac2-4b9d-9506-a6a17b0c8169",
   "metadata": {},
   "source": [
    "A Bernoulli experiment is an experiment with two possible outcomes, which we typically call \"success\" and \"failure.\" The probability of success is denoted by p, and the probability of failure is denoted by 1 - p.\n",
    "The Bernoulli distribution is a special case of the binomial distribution, which describes the outcome of n independent Bernoulli trials. In other words, the binomial distribution is a distribution of the number of successes in n independent Bernoulli trials.\n",
    "\n",
    "Examples:\n",
    "Tossing a coin once\n",
    "\n",
    "Rolling a die once and recording whether the number is even or odd\n",
    "\n",
    "The main difference between the Bernoulli distribution and the binomial distribution is that the Bernoulli distribution describes the outcome of a single trial, while the binomial distribution describes the outcome of n independent trials."
   ]
  },
  {
   "cell_type": "markdown",
   "id": "05b59e3f-c88e-41c0-b91d-b871ce72c799",
   "metadata": {},
   "source": [
    "Q6. Consider a dataset with a mean of 50 and a standard deviation of 10. If we assume that the dataset\n",
    "is normally distributed, what is the probability that a randomly selected observation will be greater\n",
    "than 60? Use the appropriate formula and show your calculations."
   ]
  },
  {
   "cell_type": "markdown",
   "id": "58bbcdff-0310-43df-a33f-acfc9a71104a",
   "metadata": {},
   "source": [
    "Step1 : z=(x-mean)/standard Deviation\n",
    "\n",
    "z=(60-50)/10=1\n",
    "\n",
    "step2:The z-score of 1 corresponds to a probability of 0.8413447460685429 \n",
    "\n",
    "step3:P(x > 60) = 1 - P(x <= 60)\n",
    "\n",
    "P(x > 60) =1-0.8413447460685429 =0.1586552539314571\n",
    "means probability that a randomly selected observation will be greater than 60 is 15.87%"
   ]
  },
  {
   "cell_type": "markdown",
   "id": "333315cb-0b48-47fb-b360-5a207ecb1581",
   "metadata": {},
   "source": [
    "Q7: Explain uniform Distribution with an example."
   ]
  },
  {
   "cell_type": "markdown",
   "id": "ee89571a-1deb-43a3-ad89-85c609afe3bd",
   "metadata": {},
   "source": [
    " A uniform distribution is a probability distribution where all outcomes are equally likely. This means that the probability of any particular outcome is the same as the probability of any other outcome.\n",
    "\n",
    "A simple example of a uniform distribution is the roll of a fair die. When you roll a die, there are six possible outcomes: 1, 2, 3, 4, 5, and 6. Each of these outcomes is equally likely, so the probability of rolling any particular number is 1/6"
   ]
  },
  {
   "cell_type": "markdown",
   "id": "be557e86-80ed-42c7-8ade-a52c1d3e9b5f",
   "metadata": {},
   "source": [
    "Q8: What is the z score? State the importance of the z score."
   ]
  },
  {
   "cell_type": "markdown",
   "id": "a9d60cad-117d-481b-bda0-79e32d4fb883",
   "metadata": {},
   "source": [
    "z-score is a statistical measurement that tells you how far away from the mean (or average) your data lies in a normally distributed sample. \n",
    "\n",
    "The z-score is important because it allows you to compare data from different distributions. For example, if you have two datasets that are normally distributed, you can compare the z-scores of the data from each dataset to see which dataset has more extreme values."
   ]
  },
  {
   "cell_type": "markdown",
   "id": "1d899675-bdcf-4449-b29d-3e628fab5268",
   "metadata": {},
   "source": [
    "Q9: What is Central Limit Theorem? State the significance of the Central Limit Theorem."
   ]
  },
  {
   "cell_type": "markdown",
   "id": "438afb42-9da3-4eb6-88af-9b354134068b",
   "metadata": {},
   "source": [
    "The central limit theorem (CLT) is a theorem in probability theory that states that, given certain conditions, the arithmetic mean of a sufficiently large number of iterates of independent random variables, each with a well-defined expected value and well-defined variance, will be approximately normally distributed, regardless of the underlying distribution.\n",
    "\n",
    "The significance of the central limit theorem is that it allows us to make inferences about the population mean and standard deviation based on a sample of data. This is because, as the sample size increases, the distribution of the sample means will become more and more closely approximated by a normal distribution."
   ]
  }
 ],
 "metadata": {
  "kernelspec": {
   "display_name": "Python 3 (ipykernel)",
   "language": "python",
   "name": "python3"
  },
  "language_info": {
   "codemirror_mode": {
    "name": "ipython",
    "version": 3
   },
   "file_extension": ".py",
   "mimetype": "text/x-python",
   "name": "python",
   "nbconvert_exporter": "python",
   "pygments_lexer": "ipython3",
   "version": "3.10.8"
  }
 },
 "nbformat": 4,
 "nbformat_minor": 5
}
