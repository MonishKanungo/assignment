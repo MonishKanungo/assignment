{
 "cells": [
  {
   "cell_type": "markdown",
   "id": "8a0459f7-2aa3-4879-8423-1112bd12a8fd",
   "metadata": {},
   "source": [
    "Q1. Pearson correlation coefficient is a measure of the linear relationship between two variables. Suppose\n",
    "you have collected data on the amount of time students spend studying for an exam and their final exam\n",
    "scores. Calculate the Pearson correlation coefficient between these two variables and interpret the result."
   ]
  },
  {
   "cell_type": "code",
   "execution_count": 1,
   "id": "d43bb645-5e2c-4f16-ab68-6802f9c15973",
   "metadata": {},
   "outputs": [
    {
     "name": "stdout",
     "output_type": "stream",
     "text": [
      "Pearson Correlation Coefficient: 1.0\n"
     ]
    }
   ],
   "source": [
    "import numpy as np\n",
    "\n",
    "study_time = [10, 15, 20, 25, 30]\n",
    "exam_scores = [50, 60, 70, 80, 90]\n",
    "correlation_coefficient = np.corrcoef(study_time, exam_scores)[0, 1]\n",
    "print(\"Pearson Correlation Coefficient:\", correlation_coefficient)\n"
   ]
  },
  {
   "cell_type": "markdown",
   "id": "d8b7b187-0b4f-4e31-8ccb-8ebf3c624030",
   "metadata": {},
   "source": [
    "Q2. Spearman's rank correlation is a measure of the monotonic relationship between two variables.\n",
    "Suppose you have collected data on the amount of sleep individuals get each night and their overall job\n",
    "satisfaction level on a scale of 1 to 10. Calculate the Spearman's rank correlation between these two\n",
    "variables and interpret the result."
   ]
  },
  {
   "cell_type": "code",
   "execution_count": 2,
   "id": "596853d8-b530-4c83-9de5-a9b481109bb7",
   "metadata": {},
   "outputs": [
    {
     "name": "stdout",
     "output_type": "stream",
     "text": [
      "Spearman Correlation Coefficient:                   Sleep Time  Job Satisfaction\n",
      "Sleep Time               1.0               0.3\n",
      "Job Satisfaction         0.3               1.0\n"
     ]
    }
   ],
   "source": [
    "import pandas as pd\n",
    "sleep_time = [10, 7, 6, 5, 3]\n",
    "job_satisfaction = [9, 5, 7, 8, 6]\n",
    "\n",
    "data = {'Sleep Time': sleep_time, 'Job Satisfaction': job_satisfaction}\n",
    "df = pd.DataFrame(data)\n",
    "print(\"Spearman Correlation Coefficient:\",df.corr(method='spearman'))\n"
   ]
  },
  {
   "cell_type": "markdown",
   "id": "1cc2523b-b455-424e-9feb-f888e2b4c7ee",
   "metadata": {},
   "source": [
    "Q3. Suppose you are conducting a study to examine the relationship between the number of hours of\n",
    "exercise per week and body mass index (BMI) in a sample of adults. You collected data on both variables\n",
    "for 50 participants. Calculate the Pearson correlation coefficient and the Spearman's rank correlation\n",
    "between these two variables and compare the results."
   ]
  },
  {
   "cell_type": "code",
   "execution_count": 3,
   "id": "d2d4ceda-fe18-44f4-bc92-5735c5f51234",
   "metadata": {},
   "outputs": [
    {
     "name": "stdout",
     "output_type": "stream",
     "text": [
      "Pearson correlation coefficient                     Hours of Excercise       BMI\n",
      "Hours of Excercise            1.000000  0.952809\n",
      "BMI                           0.952809  1.000000\n",
      "Spearman correlation coefficient                     Hours of Excercise       BMI\n",
      "Hours of Excercise            1.000000  0.965042\n",
      "BMI                           0.965042  1.000000\n"
     ]
    }
   ],
   "source": [
    "import pandas as pd \n",
    "import numpy as np\n",
    "hours_of_exercise = np.random.uniform(1, 10, 50)  \n",
    "bmi = 25 + 2 * hours_of_exercise + np.random.normal(0, 2, 50)\n",
    "data={'Hours of Excercise':hours_of_exercise,'BMI':bmi}\n",
    "df = pd.DataFrame(data)\n",
    "print('Pearson correlation coefficient' ,df.corr(method='pearson'))\n",
    "print('Spearman correlation coefficient' ,df.corr(method='spearman'))\n",
    "      \n"
   ]
  },
  {
   "cell_type": "markdown",
   "id": "3a0909bd-16db-467d-8012-ac6bf8f87330",
   "metadata": {},
   "source": [
    "Q4. A researcher is interested in examining the relationship between the number of hours individuals\n",
    "spend watching television per day and their level of physical activity. The researcher collected data on\n",
    "both variables from a sample of 50 participants. Calculate the Pearson correlation coefficient between\n",
    "these two variables."
   ]
  },
  {
   "cell_type": "code",
   "execution_count": 7,
   "id": "2ce35eec-aa25-436b-873f-2f2af9ba2030",
   "metadata": {},
   "outputs": [
    {
     "name": "stdout",
     "output_type": "stream",
     "text": [
      "Pearson correlation coefficient                             number of hours  level of physical activity\n",
      "number of hours                    1.000000                   -0.919494\n",
      "level of physical activity        -0.919494                    1.000000\n"
     ]
    }
   ],
   "source": [
    "hours=np.random.uniform(1,5,50)\n",
    "physical_activity=60 - 10 * hours + np.random.normal(0, 5, 50)\n",
    "data={'number of hours':hours,'level of physical activity':physical_activity}\n",
    "df=pd.DataFrame(data)\n",
    "print('Pearson correlation coefficient' ,df.corr(method='pearson'))"
   ]
  },
  {
   "cell_type": "markdown",
   "id": "1198d7bb-4b0c-4271-b85d-2ff032b5822f",
   "metadata": {},
   "source": [
    "Q5. A survey was conducted to examine the relationship between age and preference for a particular\n",
    "brand of soft drink. The survey results are shown below:"
   ]
  },
  {
   "cell_type": "code",
   "execution_count": 8,
   "id": "c9218d6b-e7e9-4fbc-b85d-fe32793738e7",
   "metadata": {},
   "outputs": [
    {
     "name": "stdout",
     "output_type": "stream",
     "text": [
      "Pearson correlation coefficient      Age\n",
      "Age  1.0\n",
      "Spearman correlation coefficient      Age\n",
      "Age  1.0\n"
     ]
    },
    {
     "name": "stderr",
     "output_type": "stream",
     "text": [
      "/tmp/ipykernel_159/2957691293.py:5: FutureWarning: The default value of numeric_only in DataFrame.corr is deprecated. In a future version, it will default to False. Select only valid columns or specify the value of numeric_only to silence this warning.\n",
      "  print('Pearson correlation coefficient' ,df.corr(method='pearson'))\n",
      "/tmp/ipykernel_159/2957691293.py:6: FutureWarning: The default value of numeric_only in DataFrame.corr is deprecated. In a future version, it will default to False. Select only valid columns or specify the value of numeric_only to silence this warning.\n",
      "  print('Spearman correlation coefficient' ,df.corr(method='spearman'))\n"
     ]
    }
   ],
   "source": [
    "Age=[25,42,37,19,31,28]\n",
    "soft_drink=['coke','pepsi','mountain dew','c0ke','pepsi','coke']\n",
    "data={'Age':Age,'preference of soft drinks':soft_drink}\n",
    "df = pd.DataFrame(data)\n",
    "print('Pearson correlation coefficient' ,df.corr(method='pearson'))\n",
    "print('Spearman correlation coefficient' ,df.corr(method='spearman'))"
   ]
  },
  {
   "cell_type": "markdown",
   "id": "32c2e0ff-bc3d-4bb0-9d69-28c089158de5",
   "metadata": {},
   "source": [
    "Q6. A company is interested in examining the relationship between the number of sales calls made per day\n",
    "and the number of sales made per week. The company collected data on both variables from a sample of\n",
    "30 sales representatives. Calculate the Pearson correlation coefficient between these two variables."
   ]
  },
  {
   "cell_type": "code",
   "execution_count": null,
   "id": "c7f85a37-f8d3-4afa-9802-2922b734cc91",
   "metadata": {},
   "outputs": [],
   "source": []
  }
 ],
 "metadata": {
  "kernelspec": {
   "display_name": "Python 3 (ipykernel)",
   "language": "python",
   "name": "python3"
  },
  "language_info": {
   "codemirror_mode": {
    "name": "ipython",
    "version": 3
   },
   "file_extension": ".py",
   "mimetype": "text/x-python",
   "name": "python",
   "nbconvert_exporter": "python",
   "pygments_lexer": "ipython3",
   "version": "3.10.8"
  }
 },
 "nbformat": 4,
 "nbformat_minor": 5
}
