{
 "cells": [
  {
   "cell_type": "markdown",
   "id": "9ce86bad-7278-4399-93d3-bd67896b3688",
   "metadata": {},
   "source": [
    "#Q1. What is an API? Give an example, where an API is used in real life.\n"
   ]
  },
  {
   "cell_type": "markdown",
   "id": "702db741-ac63-465b-81ea-c98c279fc12b",
   "metadata": {},
   "source": [
    "Api stands for application programming interface it is a mechnasim to  that enable two software components to communicate with each other using a set of definitions and protocols. For example, the weather bureau’s software system contains daily weather data. The weather app on your phone “talks” to this system via APIs and shows you daily weather updates on your phone"
   ]
  },
  {
   "cell_type": "markdown",
   "id": "07e87f1e-d9e9-46cd-9172-f6fd0fba92bd",
   "metadata": {},
   "source": [
    "#Q2. Give advantages and disadvantages of using API."
   ]
  },
  {
   "cell_type": "markdown",
   "id": "ef601c6d-35ba-47b9-8e21-ce7fed0417f6",
   "metadata": {},
   "source": [
    "Advantages:\n",
    "\n",
    "Increased speed and efficiency: APIs can help to improve the speed and efficiency of applications by allowing them to communicate with each other directly. This can reduce the need for manual data entry and processing, which can save time and money.\n",
    "Improved flexibility: APIs can help to improve the flexibility of applications by allowing them to be easily integrated with other systems. This can make it easier to add new features and functionality to applications, and it can also make it easier to migrate applications to new platforms.\n",
    "Reduced development costs: APIs can help to reduce the development costs of applications by providing pre-built functionality that can be reused. This can free up developers to focus on other aspects of application development, such as user experience and design.\n",
    "Increased security: APIs can help to improve the security of applications by providing a secure way for them to communicate with each other. This can help to protect sensitive data from unauthorized access.\n",
    "Disadvantages:\n",
    "\n",
    "Security risks: APIs can introduce security risks if they are not properly designed and implemented. This is because APIs can provide access to sensitive data, such as customer information or financial data.\n",
    "Complexity: APIs can be complex to develop and use. This is because they require developers to have a good understanding of the underlying system that they are interfacing with.\n",
    "Dependency on third-party providers: APIs can make applications dependent on third-party providers. This can be a problem if the third-party provider goes out of business or changes its API.\n",
    "Performance: APIs can add latency to applications. This is because they require applications to make additional requests to external systems."
   ]
  },
  {
   "cell_type": "markdown",
   "id": "b306a65f-e8e7-4e02-a2d9-faccc9245b78",
   "metadata": {},
   "source": [
    "#Q3. What is a Web API? Differentiate between API and Web API."
   ]
  },
  {
   "cell_type": "markdown",
   "id": "01bc3869-0aed-4fa8-b290-04a76578cd22",
   "metadata": {},
   "source": [
    "A Web API is a specific type of API that uses the HTTP protocol to communicate over the internet.\n",
    "some of the key differences between APIs and Web APIs:\n",
    "\n",
    "Communication protocol: APIs can use a variety of communication protocols, such as HTTP, SOAP, or CORBA. Web APIs, on the other hand, use the HTTP protocol exclusively.\n",
    "Location: APIs can be located on a variety of servers, such as internal servers, external servers, or cloud servers. Web APIs, on the other hand, are typically located on external servers.\n",
    "Security: APIs can be secured using a variety of methods, such as username/password authentication, OAuth, or SSL/TLS. Web APIs, on the other hand, are typically secured using HTTPS."
   ]
  },
  {
   "cell_type": "markdown",
   "id": "7f0e497a-b91d-4ed7-ae9c-622085e19b3e",
   "metadata": {},
   "source": [
    "#Q4. Explain REST and SOAP Architecture. Mention shortcomings of SOAP."
   ]
  },
  {
   "cell_type": "markdown",
   "id": "e0ab0606-0d84-4bfc-be10-82e90d399ddf",
   "metadata": {},
   "source": [
    "REST stands for Representational State Transfer, and SOAP stands for Simple Object Access Protocol.\n",
    "\n",
    "REST is a more lightweight approach to web services that relies on the HTTP protocol and standard data formats such as XML and JSON. SOAP is a more heavyweight approach to web services that uses its own custom protocol and data format.\n",
    "1.data format in REST is XML,JSON where as in SOAP it is xml\n",
    "2.security in REST is Request-response where as in SOAP it is Document-oriented\n",
    "3.Flexibility in RESt is High where in SOAP is low\n",
    "\n",
    "REST and SOAP are two different architectural styles for building web services. REST stands for Representational State Transfer, and SOAP stands for Simple Object Access Protocol.\n",
    "\n",
    "REST is a more lightweight approach to web services that relies on the HTTP protocol and standard data formats such as XML and JSON. SOAP is a more heavyweight approach to web services that uses its own custom protocol and data format.\n",
    "\n",
    "Here is a table that summarizes the key differences between REST and SOAP:\n",
    "\n",
    "Feature\tREST\tSOAP\n",
    "Protocol\tHTTP\tSOAP\n",
    "Data format\tXML, JSON\tXML\n",
    "Messaging style\tRequest-response\tDocument-oriented\n",
    "Security\tTransport-layer security (TLS/SSL)\tMessage-level security (WS-Security)\n",
    "Scalability\tHorizontal\tVertical\n",
    "Flexibility\tHigh\tLow\n",
    "SOAP has a number of shortcomings, including:\n",
    "\n",
    "Complex: SOAP is a complex protocol with a lot of moving parts. This can make it difficult to develop and use SOAP web services.\n",
    "Verbose: SOAP messages are often verbose, which can make them slow and inefficient.\n",
    "Unreliable: SOAP messages can be unreliable, as they are not guaranteed to be delivered in the same order as they were sent.\n",
    "Insecure: SOAP messages can be insecure, as they are not encrypted by default."
   ]
  }
 ],
 "metadata": {
  "kernelspec": {
   "display_name": "Python 3 (ipykernel)",
   "language": "python",
   "name": "python3"
  },
  "language_info": {
   "codemirror_mode": {
    "name": "ipython",
    "version": 3
   },
   "file_extension": ".py",
   "mimetype": "text/x-python",
   "name": "python",
   "nbconvert_exporter": "python",
   "pygments_lexer": "ipython3",
   "version": "3.10.8"
  }
 },
 "nbformat": 4,
 "nbformat_minor": 5
}
