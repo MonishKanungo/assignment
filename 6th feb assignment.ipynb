{
 "cells": [
  {
   "cell_type": "code",
   "execution_count": 8,
   "id": "83b31c4b-2651-4fdb-9263-9ea469033338",
   "metadata": {},
   "outputs": [
    {
     "name": "stdout",
     "output_type": "stream",
     "text": [
      "209917154968637276160\n"
     ]
    }
   ],
   "source": [
    "def calc_product(lst):\n",
    "    flat_list=[]\n",
    "    def flatt(l):\n",
    "         for item in l:\n",
    "                if type(item)==int:\n",
    "                    flat_list.append(item)\n",
    "                elif type(item) == float:\n",
    "                    flat_list.append(item)\n",
    "                elif type(item) == tuple:\n",
    "                    flatt(item)\n",
    "                elif type(item) == list:\n",
    "                    flatt(item)\n",
    "                elif type(item) == dict:\n",
    "                    for key, value in item.items():\n",
    "                        if type(key) in [int, float]:\n",
    "                            flat_list.append(key)\n",
    "                        if type(value) in [int, float]:\n",
    "                            flat_list.append(value)\n",
    "                        elif type(value) in [list, tuple]:\n",
    "                            flatt(item)\n",
    "    flatt(lst)\n",
    "    product=1\n",
    "    for item in flat_list:\n",
    "            product*=item\n",
    "    return product\n",
    "\n",
    "list1 = [1,2,3,4, [44,55,66, True], False, (34,56,78,89,34), {1,2,3,3,2,1}, {1:34, \"key2\": [55, 67, 78, 89], 4: (45,\n",
    "22, 61, 34)}, [56, 'data science'], 'Machine Learning']\n",
    "result=calc_product(list1)\n",
    "print(result)\n",
    "\n",
    "        "
   ]
  },
  {
   "cell_type": "code",
   "execution_count": null,
   "id": "d8b2de71-ac5d-471e-ae15-4a4109978acd",
   "metadata": {},
   "outputs": [],
   "source": [
    "def encrypt_message(message):\n",
    "    encrypted = \"\"\n",
    "    for char in message:\n",
    "        if char == \" \":\n",
    "            encrypted = encrypted+ \"$\"\n",
    "        elif char.isalpha():\n",
    "            encrypted += chr(219 - ord(char))\n",
    "        else:\n",
    "            encrypted += char\n",
    "    return encrypted.lower()\n",
    "\n",
    "input_sentence = \"I want to become a Data Scientist.\"\n",
    "encrypted_sentence = encrypt_message(input_sentence.lower())\n",
    "\n",
    "print(encrypted_sentence)\n"
   ]
  },
  {
   "cell_type": "code",
   "execution_count": null,
   "id": "3fdbf4f6-526b-4f71-be62-501f0d980f12",
   "metadata": {},
   "outputs": [],
   "source": []
  }
 ],
 "metadata": {
  "kernelspec": {
   "display_name": "Python 3 (ipykernel)",
   "language": "python",
   "name": "python3"
  },
  "language_info": {
   "codemirror_mode": {
    "name": "ipython",
    "version": 3
   },
   "file_extension": ".py",
   "mimetype": "text/x-python",
   "name": "python",
   "nbconvert_exporter": "python",
   "pygments_lexer": "ipython3",
   "version": "3.10.8"
  }
 },
 "nbformat": 4,
 "nbformat_minor": 5
}
