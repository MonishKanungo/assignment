{
 "cells": [
  {
   "cell_type": "markdown",
   "id": "1614175c-1cc7-4321-8342-10629dc8ed8a",
   "metadata": {},
   "source": [
    "Q1. What is Statistics?"
   ]
  },
  {
   "cell_type": "markdown",
   "id": "4dc78aa2-2697-4e23-9053-d88d43bba46e",
   "metadata": {},
   "source": [
    "Statistics is the discipline of collecting, organizing, analyzing, interpreting, and presenting data to make informed decisions and draw conclusions about a population or a sample. It involves using mathematical and computational techniques to understand patterns, trends, and relationships within data, allowing us to make predictions, test hypotheses, and gain valuable insights in various fields such as science, economics, business, and social sciences."
   ]
  },
  {
   "cell_type": "markdown",
   "id": "38b8f365-9ceb-45cd-911a-523f0e3ce5d8",
   "metadata": {},
   "source": [
    "Q2. Define the different types of statistics and give an example of when each type might be used."
   ]
  },
  {
   "cell_type": "markdown",
   "id": "40310734-53ac-418d-a216-82df86f73f2e",
   "metadata": {},
   "source": [
    "1) Descriptive statistics are used to describe a set of data. They summarize the data in a way that makes it easy to understand. For example, descriptive statistics might be used to calculate the mean, median, and standard deviation of a set of test scores.\n",
    "Example: A school might use descriptive statistics to report the average test scores of its students.\n",
    "\n",
    "2) Inferential statistics are used to make inferences about a population based on a sample. They allow us to make generalizations about a group of people based on the data we have collected from a smaller group. For example, inferential statistics might be used to determine if there is a difference in the average test scores of boys and girls.\n",
    "Example: A company might use inferential statistics to determine if a new product is successful."
   ]
  },
  {
   "cell_type": "markdown",
   "id": "76d60e56-ea4e-40e6-9f9e-4d35a9912290",
   "metadata": {},
   "source": [
    "Q3. What are the different types of data and how do they differ from each other? Provide an example of\n",
    "each type of data."
   ]
  },
  {
   "cell_type": "markdown",
   "id": "cb30c20a-8a7f-4610-90de-ecffd860e8ae",
   "metadata": {},
   "source": [
    "1) Nominal data - Data that is used to categorize observations into groups that have no inherent order or ranking \n",
    "Examples -Gender, hair color, eye color, blood type\n",
    "2) Ordinal data-  Data that can be ordered or ranked, but the difference between any two consecutive values is not necessarily meaningful\n",
    "Examples- Survey results, letter grades, rankings in a sporting event, levels of pain\n",
    "3) Discrete data- Data that can only take on a finite number of values\n",
    "Examples-Number of children a person has, number of sales made in a day, number of hits on a website, number of people in a room\n",
    "4) Continuous data-Data that can take on any value within a given range\n",
    "Examples- Height, weight, temperature, time"
   ]
  },
  {
   "cell_type": "markdown",
   "id": "eed41ed3-b9eb-4d6d-83ad-2e84bc133dbe",
   "metadata": {},
   "source": [
    "Q4. Categorise the following datasets with respect to quantitative and qualitative data types:\n",
    "(i) Grading in exam: A+, A, B+, B, C+, C, D, E\n",
    "(ii) Colour of mangoes: yellow, green, orange, red\n",
    "(iii) Height data of a class: [178.9, 179, 179.5, 176, 177.2, 178.3, 175.8,...]\n",
    "(iv) Number of mangoes exported by a farm: [500, 600, 478, 672, ...]"
   ]
  },
  {
   "cell_type": "markdown",
   "id": "88e01ae6-693c-4ea3-8a71-bbae2e5fd98c",
   "metadata": {},
   "source": [
    "(i) Grading in exam: A+, A, B+, B, C+, C, D, E\tQualitative\n",
    "(ii) Colour of mangoes: yellow, green, orange, red\tQualitative\n",
    "(iii) Height data of a class: [178.9, 179, 179.5, 176, 177.2, 178.3, 175.8,...]\tQuantitative\n",
    "(iv) Number of mangoes exported by a farm: [500, 600, 478, 672, ...]\tQuantitative"
   ]
  },
  {
   "cell_type": "markdown",
   "id": "efd20b95-514f-4071-ac71-eb68bbcba4f8",
   "metadata": {},
   "source": [
    "Q5. Explain the concept of levels of measurement and give an example of a variable for each level."
   ]
  },
  {
   "cell_type": "markdown",
   "id": "3d26bf9a-07cd-44d4-94a6-9008be0e9e9c",
   "metadata": {},
   "source": [
    "Levels of measurement are a way of classifying data according to the amount of information it contains. There are four levels of measurement:\n",
    "1) Nominal-Data that can be categorized into groups that have no inherent order or ranking\n",
    "Examples -Gender, hair color, eye color, blood type\n",
    "2) Ordinal-Data that can be ordered or ranked, but the difference between any two consecutive values is not necessarily meaningful\n",
    "Examples-Survey results, letter grades, rankings in a sporting event, levels of pain\n",
    "3) Interval- Data that can be ordered or ranked, and the difference between any two consecutive values is meaningful\n",
    "Examples-Temperature, time, height, weight\n",
    "4) Ratio-Data that can be ordered or ranked, the difference between any two consecutive values is meaningful, and there is a true zero point\n",
    "Examples-Number of children a person has, money, distance, time"
   ]
  },
  {
   "cell_type": "markdown",
   "id": "dea406b3-df79-46bd-88b3-1bedf3b758d9",
   "metadata": {},
   "source": [
    "Q6. Why is it important to understand the level of measurement when analyzing data? Provide an\n",
    "example to illustrate your answer."
   ]
  },
  {
   "cell_type": "markdown",
   "id": "8501d1a5-1f37-4956-bb0c-d1a0a5f706d1",
   "metadata": {},
   "source": [
    "The level of measurement of a variable determines the type of statistical analysis that can be performed on the data. For example, if a variable is measured at the nominal level, then only descriptive statistics can be used to analyze the data. However, if a variable is measured at the ordinal level, then more advanced statistical analyses such as t-tests  can be used."
   ]
  },
  {
   "cell_type": "markdown",
   "id": "8f75748e-fee5-4d5f-8d9b-3fcd9c0f3878",
   "metadata": {},
   "source": [
    "Q7. How nominal data type is different from ordinal data type."
   ]
  },
  {
   "cell_type": "markdown",
   "id": "50d9352e-100a-43d0-9de8-8736f4d3ab4e",
   "metadata": {},
   "source": [
    "The main difference between nominal and ordinal data types is that nominal data cannot be ordered, while ordinal data can be ordered.\n",
    "\n",
    "1) Nominal data is used to categorize data into distinct categories that have no inherent order or ranking. For example, the gender of a person (male or female) is nominal data.\n",
    "\n",
    "2) Ordinal data is used to categorize data into distinct categories that have a natural ordering or ranking. For example, the results of a survey where respondents are asked to rate their satisfaction with a product on a scale of 1 to 5 are ordinal data."
   ]
  },
  {
   "cell_type": "markdown",
   "id": "e6150e39-518c-4354-be37-f3dfcf03531c",
   "metadata": {},
   "source": [
    "Q8. Which type of plot can be used to display data in terms of range?"
   ]
  },
  {
   "cell_type": "markdown",
   "id": "48d28815-aa57-4ec3-8712-8b7c4c5141f3",
   "metadata": {},
   "source": [
    "Boxplot and Histogram "
   ]
  },
  {
   "cell_type": "markdown",
   "id": "e7a5b3a6-16b9-4a95-810e-ebe3d39980b9",
   "metadata": {},
   "source": [
    "Q9. Describe the difference between descriptive and inferential statistics. Give an example of each\n",
    "type of statistics and explain how they are used."
   ]
  },
  {
   "cell_type": "markdown",
   "id": "3c7f3979-829f-4940-a3f6-a778a515e465",
   "metadata": {},
   "source": [
    "1) Descriptive statistics are used to summarize and describe data. They do not make inferences about the population from which the data was collected. For example, descriptive statistics could be used to summarize the heights of a group of students. They could be used to calculate the mean, median, and standard deviation of the heights. Descriptive statistics could also be used to create a histogram of the heights.\n",
    "\n",
    "2) Inferential statistics are used to make inferences about the population from which the data was collected. They do this by estimating population parameters and testing hypotheses. For example, inferential statistics could be used to estimate the average height of all students in a school district. They could also be used to test the hypothesis that the average height of students in a school district is different from the average height of students in a neighboring school district."
   ]
  },
  {
   "cell_type": "markdown",
   "id": "09a6d2dc-a6e2-4907-80c4-2d6e99d40578",
   "metadata": {},
   "source": [
    "Q10. What are some common measures of central tendency and variability used in statistics? Explain\n",
    "how each measure can be used to describe a dataset."
   ]
  },
  {
   "cell_type": "markdown",
   "id": "d8cc147d-abc1-46cc-9b1e-fb87ac9a0f1e",
   "metadata": {},
   "source": [
    "1) Mean: The mean is the most commonly used measure of central tendency. It is a good measure of central tendency for datasets that are normally distributed. However, the mean can be misleading for datasets that are not normally distributed.\n",
    "2) Median: The median is a good measure of central tendency for datasets that are not normally distributed. It is also a good measure of central tendency for datasets with outliers.\n",
    "3) Mode: The mode is a good measure of central tendency for datasets with a single mode. It is not a good measure of central tendency for datasets with multiple modes\n",
    "4) Range: The range is a simple measure of variability. It is not a very reliable measure of variability because it is only influenced by the two most extreme values in a dataset\n",
    "5) Variance: The variance is a good measure of variability for datasets that are normally distributed. However, the variance can be difficult to interpret\n",
    "6) Standard deviation: The standard deviation is a more easily interpretable measure of variability than the variance. It is also a good measure of variability for datasets that are not normally distributed.}"
   ]
  },
  {
   "cell_type": "code",
   "execution_count": null,
   "id": "05fe391a-eda9-454b-b961-50084854474f",
   "metadata": {},
   "outputs": [],
   "source": []
  }
 ],
 "metadata": {
  "kernelspec": {
   "display_name": "Python 3 (ipykernel)",
   "language": "python",
   "name": "python3"
  },
  "language_info": {
   "codemirror_mode": {
    "name": "ipython",
    "version": 3
   },
   "file_extension": ".py",
   "mimetype": "text/x-python",
   "name": "python",
   "nbconvert_exporter": "python",
   "pygments_lexer": "ipython3",
   "version": "3.10.8"
  }
 },
 "nbformat": 4,
 "nbformat_minor": 5
}
